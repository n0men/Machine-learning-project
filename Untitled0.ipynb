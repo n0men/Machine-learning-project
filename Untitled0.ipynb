{
  "nbformat": 4,
  "nbformat_minor": 0,
  "metadata": {
    "colab": {
      "provenance": [],
      "authorship_tag": "ABX9TyNAb+JkjgyYIlPL6wmzarZf",
      "include_colab_link": true
    },
    "kernelspec": {
      "name": "python3",
      "display_name": "Python 3"
    },
    "language_info": {
      "name": "python"
    }
  },
  "cells": [
    {
      "cell_type": "markdown",
      "metadata": {
        "id": "view-in-github",
        "colab_type": "text"
      },
      "source": [
        "<a href=\"https://colab.research.google.com/github/simonc999/Machine-learning-project/blob/main/Untitled0.ipynb\" target=\"_parent\"><img src=\"https://colab.research.google.com/assets/colab-badge.svg\" alt=\"Open In Colab\"/></a>"
      ]
    },
    {
      "cell_type": "markdown",
      "source": [
        "# **Introduzione**\n",
        "\n",
        "L'obiettivo del machine learning è realizzare sistemi di tipo automatico che si comportino come se avessero le competenze umane, affrontando problemi multivariati, reagendo a stimoli complessi, applicando regole di tipo euristico e non meccanico, interagendo con l'ambiente e apprendendo dalle osservazioni sperimentali. Una macchina allenata in questo modo sarà in grado di classificare automaticamente nuovi casi mai visti prima, sulla base della sua conoscenza, come farebbe un essere umano. Esistono numerose famiglie e tipologie di apprendimento, in particolare, in questo corso, ci siamo concentrati sulla branca dell’Empirical Learning. Con apprendimento empirico si fa riferimento ad un metodo di apprendimento che parte da un insieme di osservazioni sperimentali **data set** e costruisce a partire da essi una regola di classificazione; il risultato di un apprendimento è un classificatore, un insieme di regole decisionali che determinano se un elemento appartiene ad una classe piuttosto che ad un’altra.\n",
        "\n",
        "Nel caso che approfondirò in questa relazione la classificazione presa in considerazione si basa sulla presenza o l’assenza del diabete.\n",
        "\n",
        "\n",
        "\n",
        "\n",
        "\n",
        "\n",
        "\n",
        "\n",
        "\n",
        "\n"
      ],
      "metadata": {
        "id": "4zT3x0rxWfDB"
      }
    },
    {
      "cell_type": "markdown",
      "source": [
        "# La patologia\n",
        "\n",
        "Il diabete mellito è un disturbo metabolico cronico e multifattoriale, che si verifica quando i livelli di zucchero nel sangue sono troppo elevati. Esistono quattro tipi principali di diabete:\n",
        "\n",
        "\n",
        "*   **Diabete di tipo 1** Noto anche come diabete giovanile, si verifica quando il sistema immunitario attacca le cellule beta pacreatiche che producono insulina. È più comune durante l'adolescenza e può causare danni ai reni, problemi durante la gravidanza e problemi dermatologici, nonché problemi di flusso sanguigno.\n",
        "*   **Diabete di tipo 2** Il corpo produce una quantità insufficiente di insulina o non risponde adeguatamente a essa. Può essere trattato con terapia insulinica, farmaci, dieta ed esercizio fisico, ma può causare problemi ai reni, ai nervi e agli occhi, malattie cardiache e ictus. La diagnosi prevede diversi test, come il test A1C, il test FPG, il test RPG, il test di tolleranza orale al glucosio, il challenge test al glucosio, il test della glicemia a digiuno e il test della glicemia casuale.\n",
        "* **Diabete di tipo 2** Il corpo produce una quantità insufficiente di insulina o non risponde adeguatamente a essa. Può essere trattato con terapia insulinica, farmaci, dieta ed esercizio fisico, ma può causare problemi ai reni, ai nervi e agli occhi, malattie cardiache e ictus. La diagnosi prevede diversi test, come il test A1C, il test FPG, il test RPG, il test di tolleranza orale al glucosio, il challenge test al glucosio, il test della glicemia a digiuno e il test della glicemia casuale.\n",
        "* **Diabete gestazionale** Si verifica durante la gravidanza e può causare complicazioni come la fluttuazione della pressione arteriosa, difficoltà respiratorie, complessità del peso alla nascita, parto prematuro e diabete futuro. Il trattamento prevede dieta, iniezioni di insulina, esercizio fisico e monitoraggio della glicemia. Anche se le probabilità di sviluppare il diabete dopo la nascita sono ridotte nella maggior parte dei casi, se non viene trattato adeguatamente, può manifestarsi in futuro.\n",
        "* **Prediabete** Si verifica quando i livelli di glucosio sono elevati ma non ancora sufficienti per essere classificati come diabete di tipo 2. Può aumentare il rischio di diabete e malattie cardiache. Le condizioni associate al prediabete includono pressione alta, bassi livelli di HDL, alti livelli di zucchero nel sangue, girovita largo e trigliceridi alti. Queste condizioni possono portare alla sindrome metabolica.\n",
        "\n",
        "# Il data-set\n",
        "Il data-set preso in considerazione per questa relazione è il ***Pima Indians Diabetes Database*** (Proprietari originali: National Institute of Diabetes and Digestive and Kidney Diseases donato da Vincent Sigillito (vgs@aplcen.apl.jhu.edu) ricevuto in data 09/05/1990) e contiene i dati di **768** pazienti femmine di età superiore ai ventun anni. Gli attributi registrati in questo database sono:\n",
        "\\begin{itemize}\n",
        "    \\item\n",
        "\n",
        "*   1 **Numero** di volte in gravidanza [#]\n",
        "*   2 **Concentrazione di glucosio** plasmatico dopo 2 ore dalla somministrazione di un bolo di glucosio [$\\frac{mg}{dl}$]. *La concetrazione dopo due ore viene considerata normale se inferiore al valore dei 155 $mg/dl$.*\n",
        "*   3 **Pressione arteriosa diastolica** [$mmHg$]\n",
        "*   4 **Spessore della piega cutanea** del tricipite [$mm$]\n",
        "*   5 **Insulina sierica** dopo 2 ore dalla somministrazione di un bolo di glucosio [$\\frac{\\mu U}{ml}$ ]\n",
        "*   6 **Indice di massa corporea** [$\\frac{peso [kg]}{altezza^2  [m^2] }$ ]\n",
        "*   7 **Funzione del pedigree del diabete**\n",
        "*   8 **Età** [anni]\n",
        "\n",
        "Oltre agli attributi è presente **la colonna di classificazione** che assume valori binari:\n",
        "\n",
        "\n",
        "\n",
        "> 1 nel caso in cui la persona reclutata è diabetica\n",
        "\n",
        "> 0 nel caso in cui non lo è\n",
        "\n",
        "\n",
        "\n",
        "Il dataset analizzato è leggermente sbilanciato, infatti si nota una presenza più importante di pazienti sani rispetto a quelli malati."
      ],
      "metadata": {
        "id": "KmFoi3NGxUR8"
      }
    },
    {
      "cell_type": "code",
      "execution_count": null,
      "metadata": {
        "id": "N86-dux3WM28"
      },
      "outputs": [],
      "source": []
    }
  ]
}