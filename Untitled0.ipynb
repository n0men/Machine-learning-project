{
  "nbformat": 4,
  "nbformat_minor": 0,
  "metadata": {
    "colab": {
      "provenance": [],
      "history_visible": true,
      "authorship_tag": "ABX9TyPho+Lz46HRfxYv4LIMQlMf",
      "include_colab_link": true
    },
    "kernelspec": {
      "name": "python3",
      "display_name": "Python 3"
    },
    "language_info": {
      "name": "python"
    }
  },
  "cells": [
    {
      "cell_type": "markdown",
      "metadata": {
        "id": "view-in-github",
        "colab_type": "text"
      },
      "source": [
        "<a href=\"https://colab.research.google.com/github/simonc999/Machine-learning-project/blob/main/Untitled0.ipynb\" target=\"_parent\"><img src=\"https://colab.research.google.com/assets/colab-badge.svg\" alt=\"Open In Colab\"/></a>"
      ]
    },
    {
      "cell_type": "markdown",
      "source": [
        "# **Introduzione**\n",
        "\n",
        "L'obiettivo del machine learning è realizzare sistemi di tipo automatico che si comportino come se avessero le competenze umane, affrontando problemi multivariati, reagendo a stimoli complessi, applicando regole di tipo euristico e non meccanico, interagendo con l'ambiente e apprendendo dalle osservazioni sperimentali. Una macchina allenata in questo modo sarà in grado di classificare automaticamente nuovi casi mai visti prima, sulla base della sua conoscenza, come farebbe un essere umano. Esistono numerose famiglie e tipologie di apprendimento, in particolare, in questo corso, ci siamo concentrati sulla branca dell’Empirical Learning. Con apprendimento empirico si fa riferimento ad un metodo di apprendimento che parte da un insieme di osservazioni sperimentali **data set** e costruisce a partire da essi una regola di classificazione; il risultato di un apprendimento è un classificatore, un insieme di regole decisionali che determinano se un elemento appartiene ad una classe piuttosto che ad un’altra.\n",
        "\n",
        "Nel caso che approfondirò in questa relazione la classificazione presa in considerazione si basa sulla presenza o l’assenza del diabete.\n",
        "\n",
        "\n",
        "\n",
        "\n",
        "\n",
        "\n",
        "\n",
        "\n",
        "\n",
        "\n"
      ],
      "metadata": {
        "id": "4zT3x0rxWfDB"
      }
    },
    {
      "cell_type": "markdown",
      "source": [
        "# La patologia\n",
        "\n",
        "Il diabete mellito è un disturbo metabolico cronico e multifattoriale, che si verifica quando i livelli di zucchero nel sangue sono troppo elevati. Esistono quattro tipi principali di diabete:\n",
        "\n",
        "\n",
        "*   **Diabete di tipo 1** Noto anche come diabete giovanile, si verifica quando il sistema immunitario attacca le cellule beta pacreatiche che producono insulina. È più comune durante l'adolescenza e può causare danni ai reni, problemi durante la gravidanza e problemi dermatologici, nonché problemi di flusso sanguigno.\n",
        "*   **Diabete di tipo 2** Il corpo produce una quantità insufficiente di insulina o non risponde adeguatamente a essa. Può essere trattato con terapia insulinica, farmaci, dieta ed esercizio fisico, ma può causare problemi ai reni, ai nervi e agli occhi, malattie cardiache e ictus. La diagnosi prevede diversi test, come il test A1C, il test FPG, il test RPG, il test di tolleranza orale al glucosio, il challenge test al glucosio, il test della glicemia a digiuno e il test della glicemia casuale.\n",
        "* **Diabete di tipo 2** Il corpo produce una quantità insufficiente di insulina o non risponde adeguatamente a essa. Può essere trattato con terapia insulinica, farmaci, dieta ed esercizio fisico, ma può causare problemi ai reni, ai nervi e agli occhi, malattie cardiache e ictus. La diagnosi prevede diversi test, come il test A1C, il test FPG, il test RPG, il test di tolleranza orale al glucosio, il challenge test al glucosio, il test della glicemia a digiuno e il test della glicemia casuale.\n",
        "* **Diabete gestazionale** Si verifica durante la gravidanza e può causare complicazioni come la fluttuazione della pressione arteriosa, difficoltà respiratorie, complessità del peso alla nascita, parto prematuro e diabete futuro. Il trattamento prevede dieta, iniezioni di insulina, esercizio fisico e monitoraggio della glicemia. Anche se le probabilità di sviluppare il diabete dopo la nascita sono ridotte nella maggior parte dei casi, se non viene trattato adeguatamente, può manifestarsi in futuro.\n",
        "* **Prediabete** Si verifica quando i livelli di glucosio sono elevati ma non ancora sufficienti per essere classificati come diabete di tipo 2. Può aumentare il rischio di diabete e malattie cardiache. Le condizioni associate al prediabete includono pressione alta, bassi livelli di HDL, alti livelli di zucchero nel sangue, girovita largo e trigliceridi alti. Queste condizioni possono portare alla sindrome metabolica.\n",
        "\n",
        "# Il data-set\n",
        "Il data-set preso in considerazione per questa relazione è il ***Pima Indians Diabetes Database*** (Proprietari originali: National Institute of Diabetes and Digestive and Kidney Diseases donato da Vincent Sigillito (vgs@aplcen.apl.jhu.edu) ricevuto in data 09/05/1990) e contiene i dati di **768** pazienti femmine di età superiore ai ventun anni. Gli attributi registrati in questo database sono:\n",
        "\n",
        "*   1 **Numero** di volte in gravidanza [#]\n",
        "*   2 **Concentrazione di glucosio** plasmatico dopo 2 ore dalla somministrazione di un bolo di glucosio [$\\frac{mg}{dl}$]. *La concetrazione dopo due ore viene considerata normale se inferiore al valore dei 155 $mg/dl$.*\n",
        "*   3 **Pressione arteriosa diastolica** [$mmHg$]\n",
        "*   4 **Spessore della piega cutanea** del tricipite [$mm$]\n",
        "*   5 **Insulina sierica** dopo 2 ore dalla somministrazione di un bolo di glucosio [$\\frac{\\mu U}{ml}$ ]\n",
        "*   6 **Indice di massa corporea** [$\\frac{peso [kg]}{altezza^2  [m^2] }$ ]\n",
        "*   7 **Funzione del pedigree del diabete**\n",
        "*   8 **Età** [anni]\n",
        "\n",
        "Oltre agli attributi è presente **la colonna di classificazione** che assume valori binari:\n",
        "\n",
        "\n",
        "\n",
        "> 1 nel caso in cui la persona reclutata è diabetica\n",
        "\n",
        "> 0 nel caso in cui non lo è\n",
        "\n",
        "\n",
        "\n",
        "**Il dataset analizzato è leggermente sbilanciato, infatti si nota una presenza più importante di pazienti sani rispetto a quelli malati.**\n",
        "\n",
        "# Definizione del problema e degli obiettivi dell’analisi dei dati\n",
        "    \n",
        "L'obiettivo di questa analisi è utilizzare i dati disponibili per creare un modello predittivo che possa distinguere tra i due risultati possibili: **diabete o non diabete.**\n",
        "\n",
        "\n",
        "Se l'applicativo basato sull'intelligenza artificiale viene utilizzato per prendere decisioni cliniche, come ad esempio la diagnosi di diabete, è importante che sia in grado di fornire spiegazioni per le sue predizioni. La spiegabilità è un aspetto importante quando si tratta di applicazioni di intelligenza artificiale nel contesto medico. I medici e gli operatori sanitari devono essere in grado di comprendere le ragioni alla base delle predizioni per prendere decisioni informate e trattare i pazienti in modo appropriato.\n",
        "\n",
        "L'interpretazione delle previsioni può essere ottenuta attraverso tecniche di spiegazione del modello, come l'importanza delle **variabili**, che mostrano **quali attributi hanno contribuito maggiormente alla previsione** (i livelli di zucchero nel sangue, l'indice di massa corporea e l'età sono stati i fattori più influenti nella classificazione di un paziente come diabetico o non diabetico).\n",
        "\n",
        "Inoltre, fornire informazioni sulle probabilità associate alle classificazioni può essere utile per valutare la **fiducia** nelle predizioni del modello. Le **probabilità** possono essere presentate insieme alle previsioni, indicando la probabilità stimata che un paziente sia diabetico o non diabetico. Questo può consentire ai medici di prendere decisioni più informate, considerando sia le previsioni del modello che le proprie conoscenze e esperienze cliniche.\n",
        "\n",
        "È importante sottolineare che la **spiegabilità** e la fornitura di informazioni sulle probabilità sono aspetti desiderabili, ma potrebbe essere necessario bilanciarli con la complessità del modello e le esigenze specifiche dell'applicazione. In alcuni casi, modelli più semplici e interpretabili, come una regressione logistica, potrebbero essere preferiti se l'obiettivo principale è la spiegabilità.\n"
      ],
      "metadata": {
        "id": "KmFoi3NGxUR8"
      }
    },
    {
      "cell_type": "markdown",
      "source": [
        "# Comprensione dei dati\n",
        "Si procede quindi alla fase della comprensione dei dati, in cui vengono analizzate le variabili determinandone la natura. **Nel nostro data-set sono presenti per lo più variabili continue, eccetto la variabile numero 1 discretizzata per numeri interi (numero di gravidanze) e la variabile 8 che rappresenta un'età, anch'essa discretizzata a numeri interi.**\n",
        "Il primo step per un'overview del data-set a disposizione è fare delle statistiche generali sull'intero dataset."
      ],
      "metadata": {
        "id": "lP2VDrCy38Ld"
      }
    },
    {
      "cell_type": "code",
      "source": [
        "import pandas as pd\n",
        "\n",
        "# Import data from GitHub:\n",
        "originalDATASET = pd.read_csv('https://raw.githubusercontent.com/simonc999/Machine-learning-project/main/pima-indians-diabetes.csv')\n",
        "\n",
        "# Print names of the features:\n",
        "print(\"------- Headers -------\")\n",
        "for col in originalDATASET.columns:\n",
        "    print(col)\n",
        "\n",
        "# Rename the features:\n",
        "originalDATASET.rename(columns={'1. Number of times pregnant': 'F1', '2. Plasma glucose concentration': 'F2', '3. Diastolic blood pressure (mm Hg)': 'F3', '4. Triceps skin fold thickness (mm)': 'F4', '5. 2-Hour serum insulin (mu U/ml)': 'F5', '6. Body mass index (weight in kg/(height in m)^2)': 'F6', '7. Diabetes pedigree function': 'F7', '8. Age (years)': 'F8', '9. Class variable (0 or 1)': 'C'}, inplace=True)\n",
        "\n",
        "# Print stats:\n",
        "print(\"------- Stats -------\")\n",
        "print(round(originalDATASET.iloc[:,0:8].describe(),3))"
      ],
      "metadata": {
        "colab": {
          "base_uri": "https://localhost:8080/"
        },
        "id": "R2-c0t5r39xr",
        "outputId": "62120a5d-0aa9-4070-aaee-63be6a5720fd"
      },
      "execution_count": 3,
      "outputs": [
        {
          "output_type": "stream",
          "name": "stdout",
          "text": [
            "------- Headers -------\n",
            "1. Number of times pregnant\n",
            "2. Plasma glucose concentration\n",
            "3. Diastolic blood pressure (mm Hg)\n",
            "4. Triceps skin fold thickness (mm)\n",
            "5. 2-Hour serum insulin (mu U/ml)\n",
            "6. Body mass index (weight in kg/(height in m)^2)\n",
            "7. Diabetes pedigree function\n",
            "8. Age (years)\n",
            "9. Class variable (0 or 1)\n",
            "------- Stats -------\n",
            "            F1       F2       F3       F4       F5       F6       F7       F8\n",
            "count  768.000  768.000  768.000  768.000  768.000  768.000  768.000  768.000\n",
            "mean     3.845  120.895   69.105   20.536   79.799   31.993    0.472   33.241\n",
            "std      3.370   31.973   19.356   15.952  115.244    7.884    0.331   11.760\n",
            "min      0.000    0.000    0.000    0.000    0.000    0.000    0.078   21.000\n",
            "25%      1.000   99.000   62.000    0.000    0.000   27.300    0.244   24.000\n",
            "50%      3.000  117.000   72.000   23.000   30.500   32.000    0.372   29.000\n",
            "75%      6.000  140.250   80.000   32.000  127.250   36.600    0.626   41.000\n",
            "max     17.000  199.000  122.000   99.000  846.000   67.100    2.420   81.000\n"
          ]
        }
      ]
    },
    {
      "cell_type": "markdown",
      "source": [
        "Osservando dei valori minimi pari a 0 delle features 2, 3, 4, 5, e 6, possiamo ipotizzare  di essere di fronte ad una mancanza di dati nel nostro data-set."
      ],
      "metadata": {
        "id": "8YYFzhwPY3ez"
      }
    },
    {
      "cell_type": "code",
      "source": [
        "import numpy as np\n",
        "import matplotlib.pyplot as plt\n",
        "originalDATASET = pd.read_csv('https://raw.githubusercontent.com/simonc999/Machine-learning-project/main/pima-indians-diabetes.csv')\n",
        "originalDATASET.rename(columns={'1. Number of times pregnant': 'F1', '2. Plasma glucose concentration': 'F2', '3. Diastolic blood pressure (mm Hg)': 'F3', '4. Triceps skin fold thickness (mm)': 'F4', '5. 2-Hour serum insulin (mu U/ml)': 'F5', '6. Body mass index (weight in kg/(height in m)^2)': 'F6', '7. Diabetes pedigree function': 'F7', '8. Age (years)': 'F8', '9. Class variable (0 or 1)': 'C'}, inplace=True)\n",
        "\n",
        "# Printing plots:\n",
        "fig, axs = plt.subplots(2, 3,figsize=(16,9))\n",
        "i=1\n",
        "for ax in fig.get_axes():\n",
        "    data = originalDATASET.iloc[:,i]\n",
        "    N, bins, patches = ax.hist(x=data, bins=70, color='b',alpha=0.7, rwidth=0.85)\n",
        "    percentuale = (len(data[data == 0]) / len(data)) * 100\n",
        "    ax.set_title('Feature '+str(i+1) + ' with ' + str(round(percentuale,3)) + '% missing')\n",
        "    patches[0].set_facecolor('r')\n",
        "    i+=1\n",
        "fig.delaxes(axs[1,2])\n",
        "\n",
        "# Adjust padding:\n",
        "plt.tight_layout(pad=0.4, w_pad=0.5, h_pad=1.0)\n",
        "\n"
      ],
      "metadata": {
        "colab": {
          "base_uri": "https://localhost:8080/",
          "height": 532
        },
        "id": "pZBMYxMmcJfV",
        "outputId": "be3b509e-8c01-4d6f-8a62-fa4e8a2945d3"
      },
      "execution_count": 78,
      "outputs": [
        {
          "output_type": "display_data",
          "data": {
            "text/plain": [
              "<Figure size 1600x900 with 5 Axes>"
            ],
            "image/png": "[encoded data removed]"
          },
          "metadata": {}
        }
      ]
    },
    {
      "cell_type": "markdown",
      "source": [
        "Per alcune variabili quali la concentrazione di glucosio, la pressione diastolica e l'indice di massa corporea, infatti sembrerebbe insolito avere dei records pari a 0.\n",
        "\n",
        "Per trattare i dati mancanti è possibile rimuovere i pazienti con dati mancanti (non preferibile), alternativamente è possibile utilizzare strategie di imputing, sostituendo la mediana per evitare la polarizzazione causata dagli outliers, oppure si può ricorrere alla tecnica di moltiplicazione dei dati mancanti.\n",
        "\n",
        "Rimuoviamo i valori mancanti dalle features sosituendo **np.nan** e ricalcoliamo le statistiche senza considerare i dati mancanti."
      ],
      "metadata": {
        "id": "b8WAR_9lXVqc"
      }
    },
    {
      "cell_type": "code",
      "source": [
        "originalDATASET_nan = originalDATASET\n",
        "i=0\n",
        "for i in range(1, 6):\n",
        "  originalDATASET_nan.iloc[originalDATASET_nan.iloc[:,i]==0,i]=np.nan;\n",
        "\n",
        "\n",
        "# Print stats:\n",
        "print(\"------- Stats -------\")\n",
        "print(round(originalDATASET_nan.iloc[:,0:8].describe(),3))\n"
      ],
      "metadata": {
        "colab": {
          "base_uri": "https://localhost:8080/"
        },
        "id": "rZ4Ip4YOY3rA",
        "outputId": "ce1f33e4-dfea-4da7-ae80-92c135db82f4"
      },
      "execution_count": 5,
      "outputs": [
        {
          "output_type": "stream",
          "name": "stdout",
          "text": [
            "------- Stats -------\n",
            "            F1       F2       F3       F4       F5       F6       F7       F8\n",
            "count  768.000  763.000  733.000  541.000  394.000  757.000  768.000  768.000\n",
            "mean     3.845  121.687   72.405   29.153  155.548   32.457    0.472   33.241\n",
            "std      3.370   30.536   12.382   10.477  118.776    6.925    0.331   11.760\n",
            "min      0.000   44.000   24.000    7.000   14.000   18.200    0.078   21.000\n",
            "25%      1.000   99.000   64.000   22.000   76.250   27.500    0.244   24.000\n",
            "50%      3.000  117.000   72.000   29.000  125.000   32.300    0.372   29.000\n",
            "75%      6.000  141.000   80.000   36.000  190.000   36.600    0.626   41.000\n",
            "max     17.000  199.000  122.000   99.000  846.000   67.100    2.420   81.000\n"
          ]
        }
      ]
    },
    {
      "cell_type": "markdown",
      "source": [
        "Genero degli istogrammi per ogni feature suddivisi per classe:"
      ],
      "metadata": {
        "id": "dQ94zJx156Lh"
      }
    },
    {
      "cell_type": "code",
      "source": [
        "# Printing plots:\n",
        "fig, axs = plt.subplots(2, 4,figsize=(16,9))\n",
        "fig.suptitle(\"Hist\", fontsize=16)\n",
        "\n",
        "i=0\n",
        "class0arrayIndexes = np.array(originalDATASET_nan.iloc[:,-1]==0)\n",
        "class1arrayIndexes = np.array(originalDATASET_nan.iloc[:,-1]==1)\n",
        "\n",
        "for ax in fig.get_axes():\n",
        "    ax.hist(x=originalDATASET_nan.iloc[class0arrayIndexes,i], bins=70, color='b',alpha=0.7, rwidth=0.85, label='class 0')\n",
        "    ax.hist(x=originalDATASET_nan.iloc[class1arrayIndexes,i], bins=70, color='r',alpha=0.7, rwidth=0.85, label='class 1')\n",
        "    ax.set_title('Feature '+str(i+1))\n",
        "    ax.legend(loc='upper right')\n",
        "    i+=1\n",
        "\n",
        "# Adjust padding:\n",
        "plt.tight_layout(pad=0.4, w_pad=0.5, h_pad=1.0)"
      ],
      "metadata": {
        "colab": {
          "base_uri": "https://localhost:8080/",
          "height": 526
        },
        "id": "Oyw-DwkvceEC",
        "outputId": "137f73f3-c6bd-4362-f471-b2ac2988f8c2"
      },
      "execution_count": 6,
      "outputs": [
        {
          "output_type": "display_data",
          "data": {
            "text/plain": [
              "<Figure size 1600x900 with 8 Axes>"
            ],
            "image/png": "[encoded data removed]"
          },
          "metadata": {}
        }
      ]
    },
    {
      "cell_type": "markdown",
      "source": [
        "Genero dei boxplot per ogni feature suddivisi per classe:"
      ],
      "metadata": {
        "id": "vsQ7hzo46ChN"
      }
    },
    {
      "cell_type": "code",
      "source": [
        "data = originalDATASET_nan\n",
        "fig, axes = plt.subplots(nrows=2, ncols=4,figsize=(16,9))\n",
        "fig.suptitle(\"Boxplots\", fontsize=16)\n",
        "\n",
        "for feature_idx, ax in enumerate(axes.flatten()):\n",
        "    feature_data_class_0 = originalDATASET_nan.iloc[class0arrayIndexes, feature_idx]\n",
        "    feature_data_class_1 = originalDATASET_nan.iloc[class1arrayIndexes, feature_idx]\n",
        "\n",
        "    feature_data_class_0 = feature_data_class_0[~np.isnan(feature_data_class_0)]\n",
        "    feature_data_class_1 = feature_data_class_1[~np.isnan(feature_data_class_1)]\n",
        "\n",
        "\n",
        "    boxplot_data = [feature_data_class_0, feature_data_class_1]\n",
        "    labels = ['Class 0', 'Class 1']\n",
        "\n",
        "    ax.boxplot(boxplot_data, labels=labels)\n",
        "    ax.set_title(f'Feature {feature_idx + 1}')\n",
        "    ax.set_ylabel('Value')\n",
        "    ax.set_xlabel('Class')\n",
        "\n",
        "plt.tight_layout()\n",
        "plt.subplots_adjust(top=0.85)\n",
        "\n",
        "plt.show()"
      ],
      "metadata": {
        "colab": {
          "base_uri": "https://localhost:8080/",
          "height": 525
        },
        "id": "SNpio_Q2xQ4h",
        "outputId": "4a04abf0-95bf-4680-f694-1a041a45895b"
      },
      "execution_count": 7,
      "outputs": [
        {
          "output_type": "display_data",
          "data": {
            "text/plain": [
              "<Figure size 1600x900 with 8 Axes>"
            ],
            "image/png": "[encoded data removed]"
          },
          "metadata": {}
        }
      ]
    },
    {
      "cell_type": "markdown",
      "source": [
        "# Analisi della correlazione tra le features\n",
        "Procediamo quindi ad un’analisi di correlazione tra le features del nostro dataset. Per scegliere quale indice di\n",
        "correlazione utilizzare, dopo aver preventivamente normalizzato le variabili, effettuiamo un k-s test per valutare se\n",
        "i dati seguono una distribuzione normale.\n",
        "\n"
      ],
      "metadata": {
        "id": "Mz1mn6I4Z_pC"
      }
    },
    {
      "cell_type": "code",
      "source": [
        "from scipy import stats\n",
        "for column in originalDATASET_nan.iloc[:,:-1]:\n",
        "  data = (originalDATASET_nan[column] - originalDATASET_nan[column].mean())/originalDATASET_nan[column].std()\n",
        "  data = data[~np.isnan(data)]\n",
        "  out = stats.ks_1samp(data, stats.norm.cdf)\n",
        "  display(\"---------- KS test for \" + column + \" ----------\")\n",
        "  display(out)\n",
        "  print(\"\\n\")"
      ],
      "metadata": {
        "colab": {
          "base_uri": "https://localhost:8080/",
          "height": 719
        },
        "id": "i58hY-n-7h69",
        "outputId": "eba4c75b-11f0-4a38-f38a-a1f5238436c3"
      },
      "execution_count": 53,
      "outputs": [
        {
          "output_type": "display_data",
          "data": {
            "text/plain": [
              "'---------- KS test for F1 ----------'"
            ],
            "application/vnd.google.colaboratory.intrinsic+json": {
              "type": "string"
            }
          },
          "metadata": {}
        },
        {
          "output_type": "display_data",
          "data": {
            "text/plain": [
              "KstestResult(statistic=0.1624306558920357, pvalue=3.5823222943496554e-18, statistic_location=-0.5475617566952985, statistic_sign=1)"
            ]
          },
          "metadata": {}
        },
        {
          "output_type": "stream",
          "name": "stdout",
          "text": [
            "\n",
            "\n"
          ]
        },
        {
          "output_type": "display_data",
          "data": {
            "text/plain": [
              "'---------- KS test for F2 ----------'"
            ],
            "application/vnd.google.colaboratory.intrinsic+json": {
              "type": "string"
            }
          },
          "metadata": {}
        },
        {
          "output_type": "display_data",
          "data": {
            "text/plain": [
              "KstestResult(statistic=0.07269539595097779, pvalue=0.0005950512923687773, statistic_location=-0.3172280796532292, statistic_sign=1)"
            ]
          },
          "metadata": {}
        },
        {
          "output_type": "stream",
          "name": "stdout",
          "text": [
            "\n",
            "\n"
          ]
        },
        {
          "output_type": "display_data",
          "data": {
            "text/plain": [
              "'---------- KS test for F3 ----------'"
            ],
            "application/vnd.google.colaboratory.intrinsic+json": {
              "type": "string"
            }
          },
          "metadata": {}
        },
        {
          "output_type": "display_data",
          "data": {
            "text/plain": [
              "KstestResult(statistic=0.04601775915051909, pvalue=0.08693456447268089, statistic_location=0.4518449635709834, statistic_sign=1)"
            ]
          },
          "metadata": {}
        },
        {
          "output_type": "stream",
          "name": "stdout",
          "text": [
            "\n",
            "\n"
          ]
        },
        {
          "output_type": "display_data",
          "data": {
            "text/plain": [
              "'---------- KS test for F4 ----------'"
            ],
            "application/vnd.google.colaboratory.intrinsic+json": {
              "type": "string"
            }
          },
          "metadata": {}
        },
        {
          "output_type": "display_data",
          "data": {
            "text/plain": [
              "KstestResult(statistic=0.04621907662084779, pvalue=0.19203517539152626, statistic_location=0.3671458317686412, statistic_sign=1)"
            ]
          },
          "metadata": {}
        },
        {
          "output_type": "stream",
          "name": "stdout",
          "text": [
            "\n",
            "\n"
          ]
        },
        {
          "output_type": "display_data",
          "data": {
            "text/plain": [
              "'---------- KS test for F5 ----------'"
            ],
            "application/vnd.google.colaboratory.intrinsic+json": {
              "type": "string"
            }
          },
          "metadata": {}
        },
        {
          "output_type": "display_data",
          "data": {
            "text/plain": [
              "KstestResult(statistic=0.144643337153178, pvalue=1.1732785752923503e-07, statistic_location=0.3237339490347476, statistic_sign=1)"
            ]
          },
          "metadata": {}
        },
        {
          "output_type": "stream",
          "name": "stdout",
          "text": [
            "\n",
            "\n"
          ]
        },
        {
          "output_type": "display_data",
          "data": {
            "text/plain": [
              "'---------- KS test for F6 ----------'"
            ],
            "application/vnd.google.colaboratory.intrinsic+json": {
              "type": "string"
            }
          },
          "metadata": {}
        },
        {
          "output_type": "display_data",
          "data": {
            "text/plain": [
              "KstestResult(statistic=0.035050628654064275, pvalue=0.3030944501268382, statistic_location=0.30939204874550846, statistic_sign=1)"
            ]
          },
          "metadata": {}
        },
        {
          "output_type": "stream",
          "name": "stdout",
          "text": [
            "\n",
            "\n"
          ]
        },
        {
          "output_type": "display_data",
          "data": {
            "text/plain": [
              "'---------- KS test for F7 ----------'"
            ],
            "application/vnd.google.colaboratory.intrinsic+json": {
              "type": "string"
            }
          },
          "metadata": {}
        },
        {
          "output_type": "display_data",
          "data": {
            "text/plain": [
              "KstestResult(statistic=0.12396702389194851, pvalue=9.575253545289412e-11, statistic_location=-1.0589979475505418, statistic_sign=-1)"
            ]
          },
          "metadata": {}
        },
        {
          "output_type": "stream",
          "name": "stdout",
          "text": [
            "\n",
            "\n"
          ]
        },
        {
          "output_type": "display_data",
          "data": {
            "text/plain": [
              "'---------- KS test for F8 ----------'"
            ],
            "application/vnd.google.colaboratory.intrinsic+json": {
              "type": "string"
            }
          },
          "metadata": {}
        },
        {
          "output_type": "display_data",
          "data": {
            "text/plain": [
              "KstestResult(statistic=0.15643039387783636, pvalue=7.023775237757875e-17, statistic_location=-0.36061240818239215, statistic_sign=1)"
            ]
          },
          "metadata": {}
        },
        {
          "output_type": "stream",
          "name": "stdout",
          "text": [
            "\n",
            "\n"
          ]
        }
      ]
    },
    {
      "cell_type": "markdown",
      "source": [
        "I risultati indicano che per le features 1, 2, 5, 7 e 8 l'ipotesi nulla viene rifiutata e quindi non possiamo fare assunzioni di normalità. Non potendo utilizzare il coefficiente di Pearson utilizziamo la tau di Kendall."
      ],
      "metadata": {
        "id": "zbNw6-EtOPS_"
      }
    },
    {
      "cell_type": "code",
      "source": [
        "from pylab import rcParams\n",
        "import seaborn as sb\n",
        "\n",
        "\n",
        "rcParams['figure.figsize'] = 7,5\n",
        "sb.heatmap(originalDATASET_nan.corr(method='kendall'),\n",
        "           xticklabels=originalDATASET_nan.columns.values,\n",
        "           yticklabels=originalDATASET_nan.columns.values,\n",
        "           cmap=\"YlGnBu\",\n",
        "          annot=True )"
      ],
      "metadata": {
        "colab": {
          "base_uri": "https://localhost:8080/",
          "height": 468
        },
        "id": "vi5r3hkbGyIZ",
        "outputId": "98ac7bb5-c457-4f8f-dc9a-ee48e471be4d"
      },
      "execution_count": 64,
      "outputs": [
        {
          "output_type": "execute_result",
          "data": {
            "text/plain": [
              "<Axes: >"
            ]
          },
          "metadata": {},
          "execution_count": 64
        },
        {
          "output_type": "display_data",
          "data": {
            "text/plain": [
              "<Figure size 700x500 with 2 Axes>"
            ],
            "image/png": "[encoded data removed]"
          },
          "metadata": {}
        }
      ]
    },
    {
      "cell_type": "markdown",
      "source": [
        "A causa di una sostanziosa mancanza di dati per la feature numero 5, inerente alla concentrazione dell'insulina sierica, si procede a rimuovere la feature in quanto polarizzerebbe troppo la nostra analisi, a seguito di operazioni di imputing, descritte dopo, portando ad overfitting."
      ],
      "metadata": {
        "id": "SiEPXK4QSW0Q"
      }
    },
    {
      "cell_type": "code",
      "source": [
        "DATASET = originalDATASET_nan.drop(\"F5\" ,axis= 1)\n",
        "print(DATASET)"
      ],
      "metadata": {
        "colab": {
          "base_uri": "https://localhost:8080/"
        },
        "id": "mYDw9EvdX6CU",
        "outputId": "10f9ba08-7040-4b2c-9d81-d38fdc8cc1cd"
      },
      "execution_count": 85,
      "outputs": [
        {
          "output_type": "stream",
          "name": "stdout",
          "text": [
            "     F1     F2    F3    F4    F6     F7  F8  C\n",
            "0     6  148.0  72.0  35.0  33.6  0.627  50  1\n",
            "1     1   85.0  66.0  29.0  26.6  0.351  31  0\n",
            "2     8  183.0  64.0   NaN  23.3  0.672  32  1\n",
            "3     1   89.0  66.0  23.0  28.1  0.167  21  0\n",
            "4     0  137.0  40.0  35.0  43.1  2.288  33  1\n",
            "..   ..    ...   ...   ...   ...    ...  .. ..\n",
            "763  10  101.0  76.0  48.0  32.9  0.171  63  0\n",
            "764   2  122.0  70.0  27.0  36.8  0.340  27  0\n",
            "765   5  121.0  72.0  23.0  26.2  0.245  30  0\n",
            "766   1  126.0  60.0   NaN  30.1  0.349  47  1\n",
            "767   1   93.0  70.0  31.0  30.4  0.315  23  0\n",
            "\n",
            "[768 rows x 8 columns]\n"
          ]
        }
      ]
    },
    {
      "cell_type": "markdown",
      "source": [
        "# Preparazione dei dati e preprocessing\n"
      ],
      "metadata": {
        "id": "Tkx4xzFiY8Ql"
      }
    },
    {
      "cell_type": "markdown",
      "source": [
        "## 1 Outliers\n",
        "\n"
      ],
      "metadata": {
        "id": "ZUPvN7N05dF7"
      }
    },
    {
      "cell_type": "markdown",
      "source": [
        "Procediamo quindi ad analizzare gli Outliers del nostro dataset. Durante la stesura di questa analisi abbiamo imparato quattro metodi principali per la gestione degli outliers.\n",
        "*   One Class SVM\n",
        "*   Covariance estimation\n",
        "*   Local outlier factor\n",
        "*   Isolation forest\n",
        "Questi metodi si fidano molto dei dati, per il nostro dataset scegliamo il terzo che è più preferibile. Si basa sulla validazione della densità rispetto a **K** elementi vicini, in questo caso K è l'iperparametro da settare. La libreria non permette la gestione dei NaN, utilizziamo quindi il software Orange per determinare gli outliers. Si procede quindi all'utilizzo del widget ***Outliers*** di orange selezionando il terzo metodo e mantenendo il valore di K = 30. Nel nostro caso utilizziamo la distanza Manhattan, preferibile per grandi dimensioni del dataset, impostando una percentuale di ricerca outliers (Contamination) pari all'1\\%.  Otteniamo una dataset di **760** dati trovando quindi 8 outliers che andremo a rimuovere manualmente come segue.\n"
      ],
      "metadata": {
        "id": "6o_CdSG55fd-"
      }
    },
    {
      "cell_type": "code",
      "source": [
        "print(\"---------- Outliers ----------\")\n",
        "print(DATASET.iloc[[18,62,106,125,177,537,579,597],:])\n",
        "print(\"---------- New dataset ----------\")\n",
        "DATASET_withoutOutliers = DATASET.drop([18,62,106,125,177,537,579,597],axis= 0)\n",
        "print(DATASET_withoutOutliers)\n"
      ],
      "metadata": {
        "colab": {
          "base_uri": "https://localhost:8080/"
        },
        "id": "LDdbwCQba-eh",
        "outputId": "9e5bdf8d-ac71-4d88-dbc3-bb309235d049"
      },
      "execution_count": 96,
      "outputs": [
        {
          "output_type": "stream",
          "name": "stdout",
          "text": [
            "---------- Outliers ----------\n",
            "     F1     F2     F3    F4    F6     F7  F8  C\n",
            "18    1  103.0   30.0  38.0  43.3  0.183  33  0\n",
            "62    5   44.0   62.0   NaN  25.0  0.587  36  0\n",
            "106   1   96.0  122.0   NaN  22.4  0.207  27  0\n",
            "125   1   88.0   30.0  42.0  55.0  0.496  26  1\n",
            "177   0  129.0  110.0  46.0  67.1  0.319  26  1\n",
            "537   0   57.0   60.0   NaN  21.7  0.735  67  0\n",
            "579   2  197.0   70.0  99.0  34.7  0.575  62  1\n",
            "597   1   89.0   24.0  19.0  27.8  0.559  21  0\n",
            "---------- New dataset ----------\n",
            "     F1     F2    F3    F4    F6     F7  F8  C\n",
            "0     6  148.0  72.0  35.0  33.6  0.627  50  1\n",
            "1     1   85.0  66.0  29.0  26.6  0.351  31  0\n",
            "2     8  183.0  64.0   NaN  23.3  0.672  32  1\n",
            "3     1   89.0  66.0  23.0  28.1  0.167  21  0\n",
            "4     0  137.0  40.0  35.0  43.1  2.288  33  1\n",
            "..   ..    ...   ...   ...   ...    ...  .. ..\n",
            "763  10  101.0  76.0  48.0  32.9  0.171  63  0\n",
            "764   2  122.0  70.0  27.0  36.8  0.340  27  0\n",
            "765   5  121.0  72.0  23.0  26.2  0.245  30  0\n",
            "766   1  126.0  60.0   NaN  30.1  0.349  47  1\n",
            "767   1   93.0  70.0  31.0  30.4  0.315  23  0\n",
            "\n",
            "[760 rows x 8 columns]\n"
          ]
        }
      ]
    },
    {
      "cell_type": "markdown",
      "source": [
        "## 2 Suddivisione Training-set e Test-set\n",
        "\n",
        "\n",
        "\n",
        "\n"
      ],
      "metadata": {
        "id": "LBS0uuUakRyP"
      }
    },
    {
      "cell_type": "markdown",
      "source": [
        "Prima di effettuare ogni operazione di preprocessing, suddividiamo training e test set. Utilizziamo una suddivisione stratificata per classe con porzioni pari a .7 e .3 corrispettivamente per training e test."
      ],
      "metadata": {
        "id": "qsqxruoU5XE9"
      }
    },
    {
      "cell_type": "code",
      "source": [
        "from sklearn.model_selection import train_test_split\n",
        "y = DATASET_withoutOutliers.iloc[:,-1]\n",
        "X_train, X_test, y_train, y_test = train_test_split(DATASET_withoutOutliers,y,stratify=y,test_size=.3)"
      ],
      "metadata": {
        "id": "XPxyuc5Rm_OP"
      },
      "execution_count": 98,
      "outputs": []
    },
    {
      "cell_type": "markdown",
      "source": [
        "## 3 Imputing dei dati mancanti precedentemente introdotti\n"
      ],
      "metadata": {
        "id": "s1lnrp62m_j2"
      }
    },
    {
      "cell_type": "markdown",
      "source": [
        "Procediamo quindi all'operazione di imputing che ci permette di sostituire valori ai dati mancanti. Durante il corso abbiamo visto due principali strategie di imputing che ci permetteranno di sostituire le osservazioni mancanti: prendendo in considerazione tutto il dataset senza considerare l'outcome (NON SUPERVISIONATE) oppure prendendo in considerazione anche l'outcome (SUPERVISIONATE). Sarebbe un errore procedere all'imputing di dati con strategie supervisionate comprendendo l'intero dataset perchè rischieremmo di polarizzare i risultati compiendo overfitting.\n",
        "\n",
        "Abbiamo quindi 3 possibili strategie di imputing:\n",
        "\n",
        "* **Imputing basata sulla sostituzione della mediana per i valori mancanti.**\n",
        "Questa strategia univariata considera l'opzione di calcolare feature per feature la mediana e sostituirla ai dati mancanti (NaN).\n",
        "* **Iterative imputing.** Alternativamente consideriamo l'imputing basato su un modello iterativo della libreria python **sklearn**. Questo modello è basato su una stima dei valori mancanti degli attributi, considerando ogni feature in funzione delle altre, iterativamente, i dati vengono inseriti feature dopo feature considerando il contributo dei valori precedentemente stimati per stimare quelli della feature successiva.\n",
        "* **K-nearest neighbors.** Un' altra tecnica popolare per l'imputazione è utilizzare un modello K-nearest neighbor. Un nuovo campione viene imputato trovando i campioni nel set di addestramento \"più vicini\" ad esso e calcola la media di questi punti vicini per inserire il valore.\n",
        "Due campioni sono vicini se le caratteristiche che non mancano sono vicine.\n",
        "\n",
        "Consideriamo l'ultima strategia."
      ],
      "metadata": {
        "id": "5OECwRrb5SME"
      }
    },
    {
      "cell_type": "code",
      "source": [
        "from sklearn.impute import KNNImputer\n",
        "\n",
        "imputer=KNNImputer(n_neighbors=5,weights='uniform',metric='nan_euclidean')\n",
        "print(\"---------- Train-set before KNN-imputing ----------\")\n",
        "print(X_train)\n",
        "imputer.fit(X_train) # fit on the dataset\n",
        "Xtrans = imputer.transform(X_train) # transform the dataset\n",
        "X_train_IMPUTED = pd.DataFrame(Xtrans, columns=['F1','F2','F3','F4','F6','F7','F8','C'])\n",
        "\n",
        "print(\"---------- Train-set after KNN-imputing ----------\")\n",
        "print(X_train_IMPUTED)\n"
      ],
      "metadata": {
        "colab": {
          "base_uri": "https://localhost:8080/"
        },
        "id": "TtYO0PMcnaCt",
        "outputId": "b7869206-7b76-47e3-96de-60dd469d4b19"
      },
      "execution_count": 103,
      "outputs": [
        {
          "output_type": "stream",
          "name": "stdout",
          "text": [
            "---------- Train-set before KNN-imputing ----------\n",
            "     F1     F2    F3    F4    F6     F7  F8  C\n",
            "447   0   95.0  80.0  45.0  36.5  0.330  26  0\n",
            "450   1   82.0  64.0  13.0  21.2  0.415  23  0\n",
            "268   0  102.0  52.0   NaN  25.1  0.078  21  0\n",
            "310   6   80.0  66.0  30.0  26.2  0.313  41  0\n",
            "311   0  106.0  70.0  37.0  39.4  0.605  22  0\n",
            "..   ..    ...   ...   ...   ...    ...  .. ..\n",
            "315   2  112.0  68.0  22.0  34.1  0.315  26  0\n",
            "406   4  115.0  72.0   NaN  28.9  0.376  46  1\n",
            "589   0   73.0   NaN   NaN  21.1  0.342  25  0\n",
            "56    7  187.0  68.0  39.0  37.7  0.254  41  1\n",
            "742   1  109.0  58.0  18.0  28.5  0.219  22  0\n",
            "\n",
            "[532 rows x 8 columns]\n",
            "---------- Train-set after KNN-imputing ----------\n",
            "      F1     F2    F3    F4    F6     F7    F8    C\n",
            "0    0.0   95.0  80.0  45.0  36.5  0.330  26.0  0.0\n",
            "1    1.0   82.0  64.0  13.0  21.2  0.415  23.0  0.0\n",
            "2    0.0  102.0  52.0  15.4  25.1  0.078  21.0  0.0\n",
            "3    6.0   80.0  66.0  30.0  26.2  0.313  41.0  0.0\n",
            "4    0.0  106.0  70.0  37.0  39.4  0.605  22.0  0.0\n",
            "..   ...    ...   ...   ...   ...    ...   ...  ...\n",
            "527  2.0  112.0  68.0  22.0  34.1  0.315  26.0  0.0\n",
            "528  4.0  115.0  72.0  23.4  28.9  0.376  46.0  1.0\n",
            "529  0.0   73.0  54.0  18.6  21.1  0.342  25.0  0.0\n",
            "530  7.0  187.0  68.0  39.0  37.7  0.254  41.0  1.0\n",
            "531  1.0  109.0  58.0  18.0  28.5  0.219  22.0  0.0\n",
            "\n",
            "[532 rows x 8 columns]\n"
          ]
        }
      ]
    },
    {
      "cell_type": "markdown",
      "source": [
        "## 4 Normalizzazione del Training-set\n"
      ],
      "metadata": {
        "id": "vqy7lWW3rX-P"
      }
    },
    {
      "cell_type": "markdown",
      "source": [
        "Effettuiamo una normalizzazione utilizzando il metodo MinMaxScaler() preferibile alla standardizzazione avendo features che non seguono la distribuzione normale."
      ],
      "metadata": {
        "id": "Vzt9Zd1_5vLZ"
      }
    },
    {
      "cell_type": "code",
      "source": [
        "from sklearn import preprocessing\n",
        "\n",
        "scaler = preprocessing.MinMaxScaler()\n",
        "d = scaler.fit_transform(X_train_IMPUTED)\n",
        "X_train_NORM = pd.DataFrame(d, columns=X_train_IMPUTED.columns)\n",
        "print(\"---------- Train-set after MinMaxScaler-normalization ----------\")\n",
        "print(X_train_NORM)\n"
      ],
      "metadata": {
        "colab": {
          "base_uri": "https://localhost:8080/"
        },
        "id": "apSAbtU82hbB",
        "outputId": "159c091a-1c16-41ab-a145-6aa8e820e664"
      },
      "execution_count": 106,
      "outputs": [
        {
          "output_type": "stream",
          "name": "stdout",
          "text": [
            "---------- Train-set after MinMaxScaler-normalization ----------\n",
            "           F1        F2        F3        F4        F6        F7        F8    C\n",
            "0    0.000000  0.272727  0.552632  0.678571  0.444175  0.107600  0.083333  0.0\n",
            "1    0.058824  0.181818  0.342105  0.107143  0.072816  0.143894  0.033333  0.0\n",
            "2    0.000000  0.321678  0.184211  0.150000  0.167476  0.000000  0.000000  0.0\n",
            "3    0.352941  0.167832  0.368421  0.410714  0.194175  0.100342  0.333333  0.0\n",
            "4    0.000000  0.349650  0.421053  0.535714  0.514563  0.225021  0.016667  0.0\n",
            "..        ...       ...       ...       ...       ...       ...       ...  ...\n",
            "527  0.117647  0.391608  0.394737  0.267857  0.385922  0.101196  0.083333  0.0\n",
            "528  0.235294  0.412587  0.447368  0.292857  0.259709  0.127242  0.416667  1.0\n",
            "529  0.000000  0.118881  0.210526  0.207143  0.070388  0.112724  0.066667  0.0\n",
            "530  0.411765  0.916084  0.394737  0.571429  0.473301  0.075149  0.333333  1.0\n",
            "531  0.058824  0.370629  0.263158  0.196429  0.250000  0.060205  0.016667  0.0\n",
            "\n",
            "[532 rows x 8 columns]\n"
          ]
        }
      ]
    },
    {
      "cell_type": "markdown",
      "source": [
        "## Considerazioni dopo preprocessing (introduzione ale operazioni di imputing)"
      ],
      "metadata": {
        "id": "6ClZ9Zwi51kT"
      }
    },
    {
      "cell_type": "markdown",
      "source": [
        "Nel training set ottenuto abbiamo le stesse percentuali presenti per il dataset di origine. Analizzando i risultati ci troviamo in un caso limite: i dataset 60-40 % possono evitare operazioni di bilanciamento, in quanto non modificherebbero in maniera significativa i risultati, mentre per percentuali più sbilanciate (70-30 %) è consigliabile il bilanciamento. Per questo motivo da questo punto dell'analisi in poi considereremo di mettere in atto 3 strategie:\n",
        "* Mantenere il training-set originale\n",
        "* Fare oversampling per bilanciare le due classi\n",
        "* Effettuare data-augmentation\n"
      ],
      "metadata": {
        "id": "c7AVtbHd5-r_"
      }
    },
    {
      "cell_type": "markdown",
      "source": [
        "# Imputing"
      ],
      "metadata": {
        "id": "03WG5map6zJ9"
      }
    },
    {
      "cell_type": "markdown",
      "source": [
        "## Oversampling"
      ],
      "metadata": {
        "id": "RQ5wICVD62X3"
      }
    },
    {
      "cell_type": "markdown",
      "source": [
        "Per bilanciare i dati utilizziamo quindi un algoritmo SMOTE (Synthetic Minority Over-sampling Technique) utilizzando la libreria  **imbalanced-learn Python library** per ripopolare il training set, ottenendo 694 records equamente bilanciati nelle due classi.\n",
        "L'algoritmo propone un approccio di sovracampionamento in cui la classe di minoranza viene sovracampionata, creando esempi stimati piuttosto che sovracampionando con ripetizione, evitando di generare dati non indipendenti. Vengono creati dati di training extra operando nello spazio delle features, piuttosto che nello spazio dei valori. La classe di minoranza viene quindi sovracampionata prendendo ogni records appartenente alla classe di minoranza e introducendo esempi stimati lungo i\n",
        "segmenti che uniscono i k vicini più simili della classe di minoranza. Per la feature 1 e 8 dobbiamo arrotondare ai valori più simili precedentemente normalizzati (non essendo variabili continue l'algoritmo estrae qualsiasi dato facendo perdere di significato alla variabile ottenuta)."
      ],
      "metadata": {
        "id": "9nwpoZ_M7Ey9"
      }
    },
    {
      "cell_type": "code",
      "source": [
        "from imblearn import under_sampling, over_sampling\n",
        "from imblearn.over_sampling import SMOTE\n",
        "from imblearn.over_sampling import BorderlineSMOTE\n",
        "from imblearn.over_sampling import SVMSMOTE\n",
        "from imblearn.over_sampling import ADASYN\n",
        "\n",
        "seed = 40;\n",
        "k=4;\n",
        "data = X_train_NORM\n",
        "X, y = data.iloc[:, [0, 1, 2, 3, 4, 5, 6]], data.iloc[:, 7]\n",
        "\n",
        "oversample = SMOTE(random_state = seed)\n",
        "Xover, yover = oversample.fit_resample(X, y)\n",
        "###### ROUNDING FUNCTION #######################################################\n",
        "def round_array_values(array, values):\n",
        "    rounded_array = np.round(array)\n",
        "\n",
        "    for i in range(len(array)):\n",
        "        value = array[i]\n",
        "        closest_value = min(values, key=lambda x: abs(x - value))\n",
        "        rounded_array[i] = closest_value\n",
        "\n",
        "    return rounded_array\n",
        "\n",
        "###### ROUNDING FEATURE 1 VALUES ###############################################\n",
        "array1 = np.array(Xover.iloc[:,0])\n",
        "values1 = np.array(np.unique(X.iloc[:,0]))\n",
        "rounded_array1 = round_array_values(array1, values1)\n",
        "\n",
        "###### ROUNDING FEATURE 8 VALUES ###############################################\n",
        "array8 = np.array(Xover.iloc[:,6])\n",
        "values8 = np.array(np.unique(X.iloc[:,6]))\n",
        "rounded_array8 = round_array_values(array8, values8)\n",
        "\n",
        "# Concat the frames\n",
        "\n",
        "F1Frame =pd.DataFrame(rounded_array1)\n",
        "F8Frame =pd.DataFrame(rounded_array8)\n",
        "\n",
        "F1Frame = F1Frame.rename(columns={0: 'F1'})\n",
        "F8Frame = F8Frame.rename(columns={0: 'F8'})\n",
        "\n",
        "X_train_OVERSAMPLED = pd.concat([F1Frame, pd.DataFrame(Xover.iloc[:,[1, 2, 3, 4, 5]]) , F8Frame], axis=1)\n",
        "YDataFrame =pd.DataFrame(yover)\n",
        "\n",
        "print(\"---------- Train-set after SMOTE-oversampling ----------\")\n",
        "print(X_train_OVERSAMPLED)\n"
      ],
      "metadata": {
        "colab": {
          "base_uri": "https://localhost:8080/"
        },
        "id": "_Zxd8UlL7iLP",
        "outputId": "19102d08-dc47-409c-8be4-211375597c2e"
      },
      "execution_count": 137,
      "outputs": [
        {
          "output_type": "stream",
          "name": "stdout",
          "text": [
            "---------- Train-set after SMOTE-oversampling ----------\n",
            "           F1        F2        F3        F4        F6        F7        F8\n",
            "0    0.000000  0.272727  0.552632  0.678571  0.444175  0.107600  0.083333\n",
            "1    0.058824  0.181818  0.342105  0.107143  0.072816  0.143894  0.033333\n",
            "2    0.000000  0.321678  0.184211  0.150000  0.167476  0.000000  0.000000\n",
            "3    0.352941  0.167832  0.368421  0.410714  0.194175  0.100342  0.333333\n",
            "4    0.000000  0.349650  0.421053  0.535714  0.514563  0.225021  0.016667\n",
            "..        ...       ...       ...       ...       ...       ...       ...\n",
            "689  0.470588  0.375785  0.572034  0.487818  0.527142  0.416112  0.383333\n",
            "690  0.588235  0.579285  0.698610  0.479730  0.320911  0.221295  0.383333\n",
            "691  0.117647  0.675580  0.421053  0.402690  0.446078  0.111660  0.183333\n",
            "692  0.235294  0.489474  0.552632  0.400470  0.341026  0.190250  0.100000\n",
            "693  0.235294  0.352321  0.349358  0.655793  0.414284  0.329465  0.083333\n",
            "\n",
            "[694 rows x 7 columns]\n"
          ]
        }
      ]
    },
    {
      "cell_type": "markdown",
      "source": [
        "Una volta effettuato lo smote, controllo se i dati generati appartengono alla stessa distribuzione."
      ],
      "metadata": {
        "id": "25jinRGFCXol"
      }
    },
    {
      "cell_type": "code",
      "source": [
        "from scipy.stats import ks_2samp\n",
        "\n",
        "colonne_da_confrontare = X_train_NORM.iloc[:,:-1].columns\n",
        "\n",
        "# Ciclo per eseguire i test KS sulle colonne corrispondenti\n",
        "for column in colonne_da_confrontare:\n",
        "  out = ks_2samp(X_train_OVERSAMPLED[column], X_train_NORM[column])\n",
        "  display(\"---------- KS test for \" + column + \" ----------\")\n",
        "  display(out)\n"
      ],
      "metadata": {
        "colab": {
          "base_uri": "https://localhost:8080/",
          "height": 389
        },
        "id": "zC8eh9w7FIMX",
        "outputId": "d2db4fe2-8fe5-42aa-b529-7651b9cb64c9"
      },
      "execution_count": 140,
      "outputs": [
        {
          "output_type": "display_data",
          "data": {
            "text/plain": [
              "'---------- KS test for F1 ----------'"
            ],
            "application/vnd.google.colaboratory.intrinsic+json": {
              "type": "string"
            }
          },
          "metadata": {}
        },
        {
          "output_type": "display_data",
          "data": {
            "text/plain": [
              "KstestResult(statistic=0.015633464063617257, pvalue=0.9999981699216001, statistic_location=0.3529411764705882, statistic_sign=-1)"
            ]
          },
          "metadata": {}
        },
        {
          "output_type": "display_data",
          "data": {
            "text/plain": [
              "'---------- KS test for F2 ----------'"
            ],
            "application/vnd.google.colaboratory.intrinsic+json": {
              "type": "string"
            }
          },
          "metadata": {}
        },
        {
          "output_type": "display_data",
          "data": {
            "text/plain": [
              "KstestResult(statistic=0.07266906459231652, pvalue=0.07802418443837136, statistic_location=0.40559440559440557, statistic_sign=-1)"
            ]
          },
          "metadata": {}
        },
        {
          "output_type": "display_data",
          "data": {
            "text/plain": [
              "'---------- KS test for F3 ----------'"
            ],
            "application/vnd.google.colaboratory.intrinsic+json": {
              "type": "string"
            }
          },
          "metadata": {}
        },
        {
          "output_type": "display_data",
          "data": {
            "text/plain": [
              "KstestResult(statistic=0.029565989902710667, pvalue=0.9455103223002295, statistic_location=0.42105263157894735, statistic_sign=-1)"
            ]
          },
          "metadata": {}
        },
        {
          "output_type": "display_data",
          "data": {
            "text/plain": [
              "'---------- KS test for F4 ----------'"
            ],
            "application/vnd.google.colaboratory.intrinsic+json": {
              "type": "string"
            }
          },
          "metadata": {}
        },
        {
          "output_type": "display_data",
          "data": {
            "text/plain": [
              "KstestResult(statistic=0.05298368399384629, pvalue=0.3504170664842466, statistic_location=0.3214285714285714, statistic_sign=-1)"
            ]
          },
          "metadata": {}
        },
        {
          "output_type": "display_data",
          "data": {
            "text/plain": [
              "'---------- KS test for F6 ----------'"
            ],
            "application/vnd.google.colaboratory.intrinsic+json": {
              "type": "string"
            }
          },
          "metadata": {}
        },
        {
          "output_type": "display_data",
          "data": {
            "text/plain": [
              "KstestResult(statistic=0.06389894043466014, pvalue=0.16173832192607632, statistic_location=0.3155339805825243, statistic_sign=-1)"
            ]
          },
          "metadata": {}
        },
        {
          "output_type": "display_data",
          "data": {
            "text/plain": [
              "'---------- KS test for F7 ----------'"
            ],
            "application/vnd.google.colaboratory.intrinsic+json": {
              "type": "string"
            }
          },
          "metadata": {}
        },
        {
          "output_type": "display_data",
          "data": {
            "text/plain": [
              "KstestResult(statistic=0.042279690580919155, pvalue=0.6340027675867967, statistic_location=0.10034158838599487, statistic_sign=-1)"
            ]
          },
          "metadata": {}
        },
        {
          "output_type": "display_data",
          "data": {
            "text/plain": [
              "'---------- KS test for F8 ----------'"
            ],
            "application/vnd.google.colaboratory.intrinsic+json": {
              "type": "string"
            }
          },
          "metadata": {}
        },
        {
          "output_type": "display_data",
          "data": {
            "text/plain": [
              "KstestResult(statistic=0.049722649563389745, pvalue=0.4279851997983673, statistic_location=0.06666666666666671, statistic_sign=-1)"
            ]
          },
          "metadata": {}
        }
      ]
    },
    {
      "cell_type": "markdown",
      "source": [
        "Per tutte e 8 le features il kstest non rifiuta l’ipotesi nulla. Quindi i dati generati dall’algoritmo smote\n",
        "appartengono alla distribuzione dei dati di origine."
      ],
      "metadata": {
        "id": "4zn4lAnYGpdg"
      }
    },
    {
      "cell_type": "markdown",
      "source": [
        "## Data Augmentation"
      ],
      "metadata": {
        "id": "Jo26FosQIR_a"
      }
    },
    {
      "cell_type": "markdown",
      "source": [
        "L’algoritmo SMOTE prima descritto non ci permette di fare data Augmentation. Per questo motivo importo\n",
        "una versione dell’algoritmo in matlab che mi permette di giocare meglio con i parametri. Di seguito `e riportato lo script matlab che richiama l’algoritmo\n",
        "SMOTE impostato appositamente per la Data Augmentation:\n"
      ],
      "metadata": {
        "id": "bkymy3a_Lmou"
      }
    },
    {
      "cell_type": "code",
      "source": [
        "!apt install octave\n"
      ],
      "metadata": {
        "colab": {
          "base_uri": "https://localhost:8080/"
        },
        "id": "Cog5acCvLs8s",
        "outputId": "2d937b52-525b-4ad6-b6b3-458acb90f7a4"
      },
      "execution_count": 141,
      "outputs": [
        {
          "output_type": "stream",
          "name": "stdout",
          "text": [
            "Reading package lists... Done\n",
            "Building dependency tree... Done\n",
            "Reading state information... Done\n",
            "The following additional packages will be installed:\n",
            "  aglfn default-jre-headless epstool fonts-droid-fallback fonts-freefont-otf\n",
            "  fonts-noto-mono fonts-urw-base35 ghostscript gnuplot-data gnuplot-qt gsfonts\n",
            "  imagemagick-6-common info install-info libamd2 libauthen-sasl-perl libbtf1\n",
            "  libcamd2 libccolamd2 libcholmod3 libclone-perl libcolamd2 libcombblas1.16.0\n",
            "  libcxsparse3 libdata-dump-perl libemf1 libencode-locale-perl libevdev2\n",
            "  libfftw3-double3 libfftw3-long3 libfftw3-mpi3 libfftw3-single3\n",
            "  libfile-listing-perl libfltk-gl1.3 libfltk1.3 libfont-afm-perl libglpk40\n",
            "  libglu1-mesa libgraphicsmagick++-q16-12 libgraphicsmagick-q16-3 libgs9\n",
            "  libgs9-common libgudev-1.0-0 libhdf5-openmpi-103-1 libhtml-form-perl\n",
            "  libhtml-format-perl libhtml-parser-perl libhtml-tagset-perl\n",
            "  libhtml-tree-perl libhttp-cookies-perl libhttp-daemon-perl libhttp-date-perl\n",
            "  libhttp-message-perl libhttp-negotiate-perl libhypre-2.22.1 libidn12\n",
            "  libijs-0.35 libinput-bin libinput10 libio-html-perl libio-socket-ssl-perl\n",
            "  libjbig2dec0 libklu1 liblqr-1-0 liblua5.4-0 liblwp-mediatypes-perl\n",
            "  liblwp-protocol-https-perl libmagick++-6.q16-8 libmagickcore-6.q16-6\n",
            "  libmagickwand-6.q16-6 libmailtools-perl libmd4c0 libmetis5 libmtdev1\n",
            "  libmumps-5.4 libnet-http-perl libnet-smtp-ssl-perl libnet-ssleay-perl\n",
            "  libnotify4 libpetsc-real3.15 libplot2c2 libportaudio2 libpstoedit0c2a\n",
            "  libptscotch-6.1 libqrupdate1 libqscintilla2-qt5-15 libqscintilla2-qt5-l10n\n",
            "  libqt5core5a libqt5dbus5 libqt5gui5 libqt5help5 libqt5network5\n",
            "  libqt5printsupport5 libqt5sql5 libqt5sql5-sqlite libqt5svg5 libqt5widgets5\n",
            "  libqt5xml5 libscalapack-openmpi2.1 libscotch-6.1 libsuitesparseconfig5\n",
            "  libsundials-ida4 libsundials-nvecparallel-petsc4 libsundials-nvecserial4\n",
            "  libsundials-sunlinsol2 libsundials-sunmatrix2 libsuperlu-dist7\n",
            "  libtext-unidecode-perl libtrilinos-amesos-13.2 libtrilinos-aztecoo-13.2\n",
            "  libtrilinos-epetra-13.2 libtrilinos-epetraext-13.2 libtrilinos-galeri-13.2\n",
            "  libtrilinos-ifpack-13.2 libtrilinos-kokkos-13.2 libtrilinos-ml-13.2\n",
            "  libtrilinos-teuchos-13.2 libtrilinos-trilinosss-13.2\n",
            "  libtrilinos-triutils-13.2 libtrilinos-zoltan-13.2 libtry-tiny-perl\n",
            "  libumfpack5 liburi-perl libwacom-bin libwacom-common libwacom9\n",
            "  libwmflite-0.2-7 libwww-perl libwww-robotrules-perl libwxbase3.0-0v5\n",
            "  libwxgtk3.0-gtk3-0v5 libxcb-icccm4 libxcb-image0 libxcb-keysyms1\n",
            "  libxcb-render-util0 libxcb-util1 libxcb-xinerama0 libxcb-xinput0 libxcb-xkb1\n",
            "  libxkbcommon-x11-0 libxml-libxml-perl libxml-namespacesupport-perl\n",
            "  libxml-parser-perl libxml-sax-base-perl libxml-sax-expat-perl\n",
            "  libxml-sax-perl libzip4 netbase octave-common octave-doc\n",
            "  perl-openssl-defaults poppler-data pstoedit qt5-gtk-platformtheme\n",
            "  qttranslations5-l10n tex-common texinfo\n",
            "Suggested packages:\n",
            "  default-jre fonts-noto fonts-texgyre ghostscript-x gnuplot-doc\n",
            "  libdigest-hmac-perl libgssapi-perl libfftw3-bin libfftw3-dev\n",
            "  libfftw3-mpi-dev libiodbc2-dev graphicsmagick-dbg libcrypt-ssleay-perl\n",
            "  libmagickcore-6.q16-6-extra gnome-shell | notification-daemon\n",
            "  libqscintilla2-doc qt5-image-formats-plugins qtwayland5 scalapack-doc\n",
            "  libsub-name-perl libbusiness-isbn-perl libauthen-ntlm-perl\n",
            "  libxml-sax-expatxs-perl octave-dev www-browser | pdf-viewer poppler-utils\n",
            "  fonts-japanese-mincho | fonts-ipafont-mincho fonts-japanese-gothic\n",
            "  | fonts-ipafont-gothic fonts-arphic-ukai fonts-arphic-uming fonts-nanum xfig\n",
            "  | ivtools-bin | tgif | transfig debhelper texlive-base texlive-latex-base\n",
            "  texlive-plain-generic texlive-fonts-recommended\n",
            "The following NEW packages will be installed:\n",
            "  aglfn default-jre-headless epstool fonts-droid-fallback fonts-freefont-otf\n",
            "  fonts-noto-mono fonts-urw-base35 ghostscript gnuplot-data gnuplot-qt gsfonts\n",
            "  imagemagick-6-common info install-info libamd2 libauthen-sasl-perl libbtf1\n",
            "  libcamd2 libccolamd2 libcholmod3 libclone-perl libcolamd2 libcombblas1.16.0\n",
            "  libcxsparse3 libdata-dump-perl libemf1 libencode-locale-perl libevdev2\n",
            "  libfftw3-double3 libfftw3-long3 libfftw3-mpi3 libfftw3-single3\n",
            "  libfile-listing-perl libfltk-gl1.3 libfltk1.3 libfont-afm-perl libglpk40\n",
            "  libglu1-mesa libgraphicsmagick++-q16-12 libgraphicsmagick-q16-3 libgs9\n",
            "  libgs9-common libgudev-1.0-0 libhdf5-openmpi-103-1 libhtml-form-perl\n",
            "  libhtml-format-perl libhtml-parser-perl libhtml-tagset-perl\n",
            "  libhtml-tree-perl libhttp-cookies-perl libhttp-daemon-perl libhttp-date-perl\n",
            "  libhttp-message-perl libhttp-negotiate-perl libhypre-2.22.1 libidn12\n",
            "  libijs-0.35 libinput-bin libinput10 libio-html-perl libio-socket-ssl-perl\n",
            "  libjbig2dec0 libklu1 liblqr-1-0 liblua5.4-0 liblwp-mediatypes-perl\n",
            "  liblwp-protocol-https-perl libmagick++-6.q16-8 libmagickcore-6.q16-6\n",
            "  libmagickwand-6.q16-6 libmailtools-perl libmd4c0 libmetis5 libmtdev1\n",
            "  libmumps-5.4 libnet-http-perl libnet-smtp-ssl-perl libnet-ssleay-perl\n",
            "  libnotify4 libpetsc-real3.15 libplot2c2 libportaudio2 libpstoedit0c2a\n",
            "  libptscotch-6.1 libqrupdate1 libqscintilla2-qt5-15 libqscintilla2-qt5-l10n\n",
            "  libqt5core5a libqt5dbus5 libqt5gui5 libqt5help5 libqt5network5\n",
            "  libqt5printsupport5 libqt5sql5 libqt5sql5-sqlite libqt5svg5 libqt5widgets5\n",
            "  libqt5xml5 libscalapack-openmpi2.1 libscotch-6.1 libsuitesparseconfig5\n",
            "  libsundials-ida4 libsundials-nvecparallel-petsc4 libsundials-nvecserial4\n",
            "  libsundials-sunlinsol2 libsundials-sunmatrix2 libsuperlu-dist7\n",
            "  libtext-unidecode-perl libtrilinos-amesos-13.2 libtrilinos-aztecoo-13.2\n",
            "  libtrilinos-epetra-13.2 libtrilinos-epetraext-13.2 libtrilinos-galeri-13.2\n",
            "  libtrilinos-ifpack-13.2 libtrilinos-kokkos-13.2 libtrilinos-ml-13.2\n",
            "  libtrilinos-teuchos-13.2 libtrilinos-trilinosss-13.2\n",
            "  libtrilinos-triutils-13.2 libtrilinos-zoltan-13.2 libtry-tiny-perl\n",
            "  libumfpack5 liburi-perl libwacom-bin libwacom-common libwacom9\n",
            "  libwmflite-0.2-7 libwww-perl libwww-robotrules-perl libwxbase3.0-0v5\n",
            "  libwxgtk3.0-gtk3-0v5 libxcb-icccm4 libxcb-image0 libxcb-keysyms1\n",
            "  libxcb-render-util0 libxcb-util1 libxcb-xinerama0 libxcb-xinput0 libxcb-xkb1\n",
            "  libxkbcommon-x11-0 libxml-libxml-perl libxml-namespacesupport-perl\n",
            "  libxml-parser-perl libxml-sax-base-perl libxml-sax-expat-perl\n",
            "  libxml-sax-perl libzip4 netbase octave octave-common octave-doc\n",
            "  perl-openssl-defaults poppler-data pstoedit qt5-gtk-platformtheme\n",
            "  qttranslations5-l10n tex-common texinfo\n",
            "0 upgraded, 158 newly installed, 0 to remove and 16 not upgraded.\n",
            "Need to get 98.9 MB of archives.\n",
            "After this operation, 352 MB of additional disk space will be used.\n",
            "Get:1 http://archive.ubuntu.com/ubuntu jammy/main amd64 install-info amd64 6.8-4build1 [88.1 kB]\n",
            "Get:2 http://archive.ubuntu.com/ubuntu jammy/main amd64 fonts-droid-fallback all 1:6.0.1r16-1.1build1 [1,805 kB]\n",
            "Get:3 http://archive.ubuntu.com/ubuntu jammy/main amd64 libfftw3-double3 amd64 3.3.8-2ubuntu8 [770 kB]\n",
            "Get:4 http://archive.ubuntu.com/ubuntu jammy/universe amd64 liblqr-1-0 amd64 0.4.2-2.1 [27.7 kB]\n",
            "Get:5 http://archive.ubuntu.com/ubuntu jammy-updates/universe amd64 imagemagick-6-common all 8:6.9.11.60+dfsg-1.3ubuntu0.22.04.3 [63.6 kB]\n",
            "Get:6 http://archive.ubuntu.com/ubuntu jammy-updates/universe amd64 libmagickcore-6.q16-6 amd64 8:6.9.11.60+dfsg-1.3ubuntu0.22.04.3 [1,788 kB]\n",
            "Get:7 http://archive.ubuntu.com/ubuntu jammy-updates/universe amd64 libmagickwand-6.q16-6 amd64 8:6.9.11.60+dfsg-1.3ubuntu0.22.04.3 [328 kB]\n",
            "Get:8 http://archive.ubuntu.com/ubuntu jammy-updates/universe amd64 libqt5core5a amd64 5.15.3+dfsg-2ubuntu0.2 [2,006 kB]\n",
            "Get:9 http://archive.ubuntu.com/ubuntu jammy/main amd64 libevdev2 amd64 1.12.1+dfsg-1 [39.5 kB]\n",
            "Get:10 http://archive.ubuntu.com/ubuntu jammy/main amd64 libmtdev1 amd64 1.1.6-1build4 [14.5 kB]\n",
            "Get:11 http://archive.ubuntu.com/ubuntu jammy/main amd64 libgudev-1.0-0 amd64 1:237-2build1 [16.3 kB]\n",
            "Get:12 http://archive.ubuntu.com/ubuntu jammy/main amd64 libwacom-common all 2.2.0-1 [54.3 kB]\n",
            "Get:13 http://archive.ubuntu.com/ubuntu jammy/main amd64 libwacom9 amd64 2.2.0-1 [22.0 kB]\n",
            "Get:14 http://archive.ubuntu.com/ubuntu jammy-updates/main amd64 libinput-bin amd64 1.20.0-1ubuntu0.3 [19.9 kB]\n",
            "Get:15 http://archive.ubuntu.com/ubuntu jammy-updates/main amd64 libinput10 amd64 1.20.0-1ubuntu0.3 [131 kB]\n",
            "Get:16 http://archive.ubuntu.com/ubuntu jammy/universe amd64 libmd4c0 amd64 0.4.8-1 [42.0 kB]\n",
            "Get:17 http://archive.ubuntu.com/ubuntu jammy-updates/universe amd64 libqt5dbus5 amd64 5.15.3+dfsg-2ubuntu0.2 [222 kB]\n",
            "Get:18 http://archive.ubuntu.com/ubuntu jammy-updates/universe amd64 libqt5network5 amd64 5.15.3+dfsg-2ubuntu0.2 [731 kB]\n",
            "Get:19 http://archive.ubuntu.com/ubuntu jammy/main amd64 libxcb-icccm4 amd64 0.4.1-1.1build2 [11.5 kB]\n",
            "Get:20 http://archive.ubuntu.com/ubuntu jammy/main amd64 libxcb-util1 amd64 0.4.0-1build2 [11.4 kB]\n",
            "Get:21 http://archive.ubuntu.com/ubuntu jammy/main amd64 libxcb-image0 amd64 0.4.0-2 [11.5 kB]\n",
            "Get:22 http://archive.ubuntu.com/ubuntu jammy/main amd64 libxcb-keysyms1 amd64 0.4.0-1build3 [8,746 B]\n",
            "Get:23 http://archive.ubuntu.com/ubuntu jammy/main amd64 libxcb-render-util0 amd64 0.3.9-1build3 [10.3 kB]\n",
            "Get:24 http://archive.ubuntu.com/ubuntu jammy/main amd64 libxcb-xinerama0 amd64 1.14-3ubuntu3 [5,414 B]\n",
            "Get:25 http://archive.ubuntu.com/ubuntu jammy/main amd64 libxcb-xinput0 amd64 1.14-3ubuntu3 [34.3 kB]\n",
            "Get:26 http://archive.ubuntu.com/ubuntu jammy/main amd64 libxcb-xkb1 amd64 1.14-3ubuntu3 [32.8 kB]\n",
            "Get:27 http://archive.ubuntu.com/ubuntu jammy/main amd64 libxkbcommon-x11-0 amd64 1.4.0-1 [14.4 kB]\n",
            "Get:28 http://archive.ubuntu.com/ubuntu jammy-updates/universe amd64 libqt5gui5 amd64 5.15.3+dfsg-2ubuntu0.2 [3,722 kB]\n",
            "Get:29 http://archive.ubuntu.com/ubuntu jammy-updates/universe amd64 libqt5widgets5 amd64 5.15.3+dfsg-2ubuntu0.2 [2,561 kB]\n",
            "Get:30 http://archive.ubuntu.com/ubuntu jammy/universe amd64 libqt5svg5 amd64 5.15.3-1 [149 kB]\n",
            "Get:31 http://archive.ubuntu.com/ubuntu jammy/main amd64 poppler-data all 0.4.11-1 [2,171 kB]\n",
            "Get:32 http://archive.ubuntu.com/ubuntu jammy/universe amd64 tex-common all 6.17 [33.7 kB]\n",
            "Get:33 http://archive.ubuntu.com/ubuntu jammy/main amd64 netbase all 6.3 [12.9 kB]\n",
            "Get:34 http://archive.ubuntu.com/ubuntu jammy/main amd64 info amd64 6.8-4build1 [213 kB]\n",
            "Get:35 http://archive.ubuntu.com/ubuntu jammy/main amd64 default-jre-headless amd64 2:1.11-72build2 [3,042 B]\n",
            "Get:36 http://archive.ubuntu.com/ubuntu jammy/main amd64 fonts-urw-base35 all 20200910-1 [6,367 kB]\n",
            "Get:37 http://archive.ubuntu.com/ubuntu jammy-updates/main amd64 libgs9-common all 9.55.0~dfsg1-0ubuntu5.3 [751 kB]\n",
            "Get:38 http://archive.ubuntu.com/ubuntu jammy-updates/main amd64 libidn12 amd64 1.38-4ubuntu1 [60.0 kB]\n",
            "Get:39 http://archive.ubuntu.com/ubuntu jammy/main amd64 libijs-0.35 amd64 0.35-15build2 [16.5 kB]\n",
            "Get:40 http://archive.ubuntu.com/ubuntu jammy/main amd64 libjbig2dec0 amd64 0.19-3build2 [64.7 kB]\n",
            "Get:41 http://archive.ubuntu.com/ubuntu jammy-updates/main amd64 libgs9 amd64 9.55.0~dfsg1-0ubuntu5.3 [5,039 kB]\n",
            "Get:42 http://archive.ubuntu.com/ubuntu jammy-updates/main amd64 ghostscript amd64 9.55.0~dfsg1-0ubuntu5.3 [49.5 kB]\n",
            "Get:43 http://archive.ubuntu.com/ubuntu jammy/universe amd64 epstool amd64 3.09-3 [110 kB]\n",
            "Get:44 http://archive.ubuntu.com/ubuntu jammy/universe amd64 fonts-freefont-otf all 20120503-10build1 [3,054 kB]\n",
            "Get:45 http://archive.ubuntu.com/ubuntu jammy/main amd64 fonts-noto-mono all 20201225-1build1 [397 kB]\n",
            "Get:46 http://archive.ubuntu.com/ubuntu jammy/universe amd64 aglfn all 1.7+git20191031.4036a9c-2 [30.6 kB]\n",
            "Get:47 http://archive.ubuntu.com/ubuntu jammy/universe amd64 gnuplot-data all 5.4.2+dfsg2-2 [75.3 kB]\n",
            "Get:48 http://archive.ubuntu.com/ubuntu jammy/universe amd64 liblua5.4-0 amd64 5.4.4-1 [152 kB]\n",
            "Get:49 http://archive.ubuntu.com/ubuntu jammy-updates/universe amd64 libqt5printsupport5 amd64 5.15.3+dfsg-2ubuntu0.2 [214 kB]\n",
            "Get:50 http://archive.ubuntu.com/ubuntu jammy/universe amd64 libwxbase3.0-0v5 amd64 3.0.5.1+dfsg-4 [881 kB]\n",
            "Get:51 http://archive.ubuntu.com/ubuntu jammy-updates/main amd64 libnotify4 amd64 0.7.9-3ubuntu5.22.04.1 [20.3 kB]\n",
            "Get:52 http://archive.ubuntu.com/ubuntu jammy/universe amd64 libwxgtk3.0-gtk3-0v5 amd64 3.0.5.1+dfsg-4 [4,368 kB]\n",
            "Get:53 http://archive.ubuntu.com/ubuntu jammy/universe amd64 gnuplot-qt amd64 5.4.2+dfsg2-2 [1,156 kB]\n",
            "Get:54 http://archive.ubuntu.com/ubuntu jammy/universe amd64 gsfonts all 1:8.11+urwcyr1.0.7~pre44-4.5 [3,120 kB]\n",
            "Get:55 http://archive.ubuntu.com/ubuntu jammy/main amd64 libsuitesparseconfig5 amd64 1:5.10.1+dfsg-4build1 [10.4 kB]\n",
            "Get:56 http://archive.ubuntu.com/ubuntu jammy/universe amd64 libamd2 amd64 1:5.10.1+dfsg-4build1 [21.6 kB]\n",
            "Get:57 http://archive.ubuntu.com/ubuntu jammy/universe amd64 libbtf1 amd64 1:5.10.1+dfsg-4build1 [12.1 kB]\n",
            "Get:58 http://archive.ubuntu.com/ubuntu jammy/universe amd64 libcamd2 amd64 1:5.10.1+dfsg-4build1 [23.3 kB]\n",
            "Get:59 http://archive.ubuntu.com/ubuntu jammy/universe amd64 libccolamd2 amd64 1:5.10.1+dfsg-4build1 [25.2 kB]\n",
            "Get:60 http://archive.ubuntu.com/ubuntu jammy/main amd64 libcolamd2 amd64 1:5.10.1+dfsg-4build1 [18.0 kB]\n",
            "Get:61 http://archive.ubuntu.com/ubuntu jammy/universe amd64 libmetis5 amd64 5.1.0.dfsg-7build2 [181 kB]\n",
            "Get:62 http://archive.ubuntu.com/ubuntu jammy/universe amd64 libcholmod3 amd64 1:5.10.1+dfsg-4build1 [346 kB]\n",
            "Get:63 http://archive.ubuntu.com/ubuntu jammy/main amd64 libclone-perl amd64 0.45-1build3 [11.0 kB]\n",
            "Get:64 http://archive.ubuntu.com/ubuntu jammy/universe amd64 libcombblas1.16.0 amd64 1.6.2-8 [271 kB]\n",
            "Get:65 http://archive.ubuntu.com/ubuntu jammy/universe amd64 libcxsparse3 amd64 1:5.10.1+dfsg-4build1 [70.8 kB]\n",
            "Get:66 http://archive.ubuntu.com/ubuntu jammy/main amd64 libdata-dump-perl all 1.25-1 [25.9 kB]\n",
            "Get:67 http://archive.ubuntu.com/ubuntu jammy/universe amd64 libemf1 amd64 1.0.13-3 [62.2 kB]\n",
            "Get:68 http://archive.ubuntu.com/ubuntu jammy/main amd64 libencode-locale-perl all 1.05-1.1 [11.8 kB]\n",
            "Get:69 http://archive.ubuntu.com/ubuntu jammy/main amd64 libfftw3-long3 amd64 3.3.8-2ubuntu8 [335 kB]\n",
            "Get:70 http://archive.ubuntu.com/ubuntu jammy/main amd64 libfftw3-single3 amd64 3.3.8-2ubuntu8 [800 kB]\n",
            "Get:71 http://archive.ubuntu.com/ubuntu jammy/universe amd64 libfftw3-mpi3 amd64 3.3.8-2ubuntu8 [48.9 kB]\n",
            "Get:72 http://archive.ubuntu.com/ubuntu jammy/main amd64 libhttp-date-perl all 6.05-1 [9,920 B]\n",
            "Get:73 http://archive.ubuntu.com/ubuntu jammy/main amd64 libfile-listing-perl all 6.14-1 [11.2 kB]\n",
            "Get:74 http://archive.ubuntu.com/ubuntu jammy/universe amd64 libfltk1.3 amd64 1.3.8-4 [628 kB]\n",
            "Get:75 http://archive.ubuntu.com/ubuntu jammy/universe amd64 libfltk-gl1.3 amd64 1.3.8-4 [45.9 kB]\n",
            "Get:76 http://archive.ubuntu.com/ubuntu jammy/main amd64 libfont-afm-perl all 1.20-3 [13.6 kB]\n",
            "Get:77 http://archive.ubuntu.com/ubuntu jammy/universe amd64 libglpk40 amd64 5.0-1 [361 kB]\n",
            "Get:78 http://archive.ubuntu.com/ubuntu jammy/main amd64 libwmflite-0.2-7 amd64 0.2.12-5ubuntu1 [68.9 kB]\n",
            "Get:79 http://archive.ubuntu.com/ubuntu jammy-updates/universe amd64 libgraphicsmagick-q16-3 amd64 1.4+really1.3.38-1ubuntu0.1 [1,238 kB]\n",
            "Get:80 http://archive.ubuntu.com/ubuntu jammy-updates/universe amd64 libgraphicsmagick++-q16-12 amd64 1.4+really1.3.38-1ubuntu0.1 [122 kB]\n",
            "Get:81 http://archive.ubuntu.com/ubuntu jammy/universe amd64 libhdf5-openmpi-103-1 amd64 1.10.7+repack-4ubuntu2 [1,344 kB]\n",
            "Get:82 http://archive.ubuntu.com/ubuntu jammy/main amd64 libhtml-tagset-perl all 3.20-4 [12.5 kB]\n",
            "Get:83 http://archive.ubuntu.com/ubuntu jammy/main amd64 liburi-perl all 5.10-1 [78.8 kB]\n",
            "Get:84 http://archive.ubuntu.com/ubuntu jammy/main amd64 libhtml-parser-perl amd64 3.76-1build2 [88.4 kB]\n",
            "Get:85 http://archive.ubuntu.com/ubuntu jammy/main amd64 libio-html-perl all 1.004-2 [15.4 kB]\n",
            "Get:86 http://archive.ubuntu.com/ubuntu jammy/main amd64 liblwp-mediatypes-perl all 6.04-1 [19.5 kB]\n",
            "Get:87 http://archive.ubuntu.com/ubuntu jammy/main amd64 libhttp-message-perl all 6.36-1 [76.8 kB]\n",
            "Get:88 http://archive.ubuntu.com/ubuntu jammy/main amd64 libhtml-form-perl all 6.07-1 [22.2 kB]\n",
            "Get:89 http://archive.ubuntu.com/ubuntu jammy/main amd64 libhtml-tree-perl all 5.07-2 [200 kB]\n",
            "Get:90 http://archive.ubuntu.com/ubuntu jammy/main amd64 libhtml-format-perl all 2.12-1.1 [41.3 kB]\n",
            "Get:91 http://archive.ubuntu.com/ubuntu jammy/main amd64 libhttp-cookies-perl all 6.10-1 [18.4 kB]\n",
            "Get:92 http://archive.ubuntu.com/ubuntu jammy-updates/main amd64 libhttp-daemon-perl all 6.13-1ubuntu0.1 [22.9 kB]\n",
            "Get:93 http://archive.ubuntu.com/ubuntu jammy/main amd64 libhttp-negotiate-perl all 6.01-1 [12.5 kB]\n",
            "Get:94 http://archive.ubuntu.com/ubuntu jammy/universe amd64 libptscotch-6.1 amd64 6.1.3-1 [702 kB]\n",
            "Get:95 http://archive.ubuntu.com/ubuntu jammy/universe amd64 libsuperlu-dist7 amd64 7.2.0+dfsg1-2 [545 kB]\n",
            "Get:96 http://archive.ubuntu.com/ubuntu jammy/universe amd64 libhypre-2.22.1 amd64 2.22.1-7 [1,612 kB]\n",
            "Get:97 http://archive.ubuntu.com/ubuntu jammy/main amd64 perl-openssl-defaults amd64 5build2 [7,542 B]\n",
            "Get:98 http://archive.ubuntu.com/ubuntu jammy/main amd64 libnet-ssleay-perl amd64 1.92-1build2 [327 kB]\n",
            "Get:99 http://archive.ubuntu.com/ubuntu jammy/main amd64 libio-socket-ssl-perl all 2.074-2 [192 kB]\n",
            "Get:100 http://archive.ubuntu.com/ubuntu jammy/universe amd64 libklu1 amd64 1:5.10.1+dfsg-4build1 [77.6 kB]\n",
            "Get:101 http://archive.ubuntu.com/ubuntu jammy/main amd64 libnet-http-perl all 6.22-1 [23.2 kB]\n",
            "Get:102 http://archive.ubuntu.com/ubuntu jammy/main amd64 libtry-tiny-perl all 0.31-1 [21.8 kB]\n",
            "Get:103 http://archive.ubuntu.com/ubuntu jammy/main amd64 libwww-robotrules-perl all 6.02-1 [12.6 kB]\n",
            "Get:104 http://archive.ubuntu.com/ubuntu jammy/main amd64 libwww-perl all 6.61-1 [141 kB]\n",
            "Get:105 http://archive.ubuntu.com/ubuntu jammy/main amd64 liblwp-protocol-https-perl all 6.10-1 [10.9 kB]\n",
            "Get:106 http://archive.ubuntu.com/ubuntu jammy-updates/universe amd64 libmagick++-6.q16-8 amd64 8:6.9.11.60+dfsg-1.3ubuntu0.22.04.3 [157 kB]\n",
            "Get:107 http://archive.ubuntu.com/ubuntu jammy/main amd64 libnet-smtp-ssl-perl all 1.04-1 [5,948 B]\n",
            "Get:108 http://archive.ubuntu.com/ubuntu jammy/main amd64 libmailtools-perl all 2.21-1 [80.7 kB]\n",
            "Get:109 http://archive.ubuntu.com/ubuntu jammy/universe amd64 libscalapack-openmpi2.1 amd64 2.1.0-4 [1,534 kB]\n",
            "Get:110 http://archive.ubuntu.com/ubuntu jammy/universe amd64 libmumps-5.4 amd64 5.4.1-2 [1,826 kB]\n",
            "Get:111 http://archive.ubuntu.com/ubuntu jammy/universe amd64 libscotch-6.1 amd64 6.1.3-1 [422 kB]\n",
            "Get:112 http://archive.ubuntu.com/ubuntu jammy/universe amd64 libtrilinos-kokkos-13.2 amd64 13.2.0-1ubuntu1 [107 kB]\n",
            "Get:113 http://archive.ubuntu.com/ubuntu jammy/universe amd64 libtrilinos-teuchos-13.2 amd64 13.2.0-1ubuntu1 [1,193 kB]\n",
            "Get:114 http://archive.ubuntu.com/ubuntu jammy/universe amd64 libtrilinos-epetra-13.2 amd64 13.2.0-1ubuntu1 [458 kB]\n",
            "Get:115 http://archive.ubuntu.com/ubuntu jammy/universe amd64 libtrilinos-triutils-13.2 amd64 13.2.0-1ubuntu1 [130 kB]\n",
            "Get:116 http://archive.ubuntu.com/ubuntu jammy/universe amd64 libtrilinos-epetraext-13.2 amd64 13.2.0-1ubuntu1 [448 kB]\n",
            "Get:117 http://archive.ubuntu.com/ubuntu jammy/universe amd64 libtrilinos-trilinosss-13.2 amd64 13.2.0-1ubuntu1 [89.9 kB]\n",
            "Get:118 http://archive.ubuntu.com/ubuntu jammy/universe amd64 libtrilinos-amesos-13.2 amd64 13.2.0-1ubuntu1 [109 kB]\n",
            "Get:119 http://archive.ubuntu.com/ubuntu jammy/universe amd64 libtrilinos-aztecoo-13.2 amd64 13.2.0-1ubuntu1 [219 kB]\n",
            "Get:120 http://archive.ubuntu.com/ubuntu jammy/universe amd64 libtrilinos-galeri-13.2 amd64 13.2.0-1ubuntu1 [91.2 kB]\n",
            "Get:121 http://archive.ubuntu.com/ubuntu jammy/universe amd64 libtrilinos-ifpack-13.2 amd64 13.2.0-1ubuntu1 [443 kB]\n",
            "Get:122 http://archive.ubuntu.com/ubuntu jammy/universe amd64 libtrilinos-zoltan-13.2 amd64 13.2.0-1ubuntu1 [403 kB]\n",
            "Get:123 http://archive.ubuntu.com/ubuntu jammy/universe amd64 libtrilinos-ml-13.2 amd64 13.2.0-1ubuntu1 [992 kB]\n",
            "Get:124 http://archive.ubuntu.com/ubuntu jammy/universe amd64 libumfpack5 amd64 1:5.10.1+dfsg-4build1 [250 kB]\n",
            "Get:125 http://archive.ubuntu.com/ubuntu jammy/universe amd64 libpetsc-real3.15 amd64 3.15.5+dfsg1-1build2 [6,095 kB]\n",
            "Get:126 http://archive.ubuntu.com/ubuntu jammy/universe amd64 libplot2c2 amd64 2.6-11 [506 kB]\n",
            "Get:127 http://archive.ubuntu.com/ubuntu jammy/universe amd64 libportaudio2 amd64 19.6.0-1.1 [65.3 kB]\n",
            "Get:128 http://archive.ubuntu.com/ubuntu jammy/universe amd64 libzip4 amd64 1.7.3-1ubuntu2 [55.0 kB]\n",
            "Get:129 http://archive.ubuntu.com/ubuntu jammy/universe amd64 libpstoedit0c2a amd64 3.78-1 [373 kB]\n",
            "Get:130 http://archive.ubuntu.com/ubuntu jammy/universe amd64 libqrupdate1 amd64 1.1.2-4 [36.8 kB]\n",
            "Get:131 http://archive.ubuntu.com/ubuntu jammy/universe amd64 libqscintilla2-qt5-l10n all 2.11.6+dfsg-4 [54.8 kB]\n",
            "Get:132 http://archive.ubuntu.com/ubuntu jammy/universe amd64 libqscintilla2-qt5-15 amd64 2.11.6+dfsg-4 [1,217 kB]\n",
            "Get:133 http://archive.ubuntu.com/ubuntu jammy-updates/universe amd64 libqt5sql5 amd64 5.15.3+dfsg-2ubuntu0.2 [123 kB]\n",
            "Get:134 http://archive.ubuntu.com/ubuntu jammy/universe amd64 libqt5help5 amd64 5.15.3-1 [162 kB]\n",
            "Get:135 http://archive.ubuntu.com/ubuntu jammy-updates/universe amd64 libqt5sql5-sqlite amd64 5.15.3+dfsg-2ubuntu0.2 [53.0 kB]\n",
            "Get:136 http://archive.ubuntu.com/ubuntu jammy-updates/universe amd64 libqt5xml5 amd64 5.15.3+dfsg-2ubuntu0.2 [124 kB]\n",
            "Get:137 http://archive.ubuntu.com/ubuntu jammy/universe amd64 libsundials-ida4 amd64 5.8.0+dfsg-1build1 [80.1 kB]\n",
            "Get:138 http://archive.ubuntu.com/ubuntu jammy/universe amd64 libsundials-nvecparallel-petsc4 amd64 5.8.0+dfsg-1build1 [31.1 kB]\n",
            "Get:139 http://archive.ubuntu.com/ubuntu jammy/universe amd64 libsundials-nvecserial4 amd64 5.8.0+dfsg-1build1 [40.9 kB]\n",
            "Get:140 http://archive.ubuntu.com/ubuntu jammy/universe amd64 libsundials-sunmatrix2 amd64 5.8.0+dfsg-1build1 [42.9 kB]\n",
            "Get:141 http://archive.ubuntu.com/ubuntu jammy/universe amd64 libsundials-sunlinsol2 amd64 5.8.0+dfsg-1build1 [93.7 kB]\n",
            "Get:142 http://archive.ubuntu.com/ubuntu jammy/universe amd64 libtext-unidecode-perl all 1.30-1 [99.0 kB]\n",
            "Get:143 http://archive.ubuntu.com/ubuntu jammy/main amd64 libwacom-bin amd64 2.2.0-1 [13.6 kB]\n",
            "Get:144 http://archive.ubuntu.com/ubuntu jammy/main amd64 libxml-namespacesupport-perl all 1.12-1.1 [13.2 kB]\n",
            "Get:145 http://archive.ubuntu.com/ubuntu jammy/main amd64 libxml-sax-base-perl all 1.09-1.1 [19.0 kB]\n",
            "Get:146 http://archive.ubuntu.com/ubuntu jammy/main amd64 libxml-sax-perl all 1.02+dfsg-3 [57.0 kB]\n",
            "Get:147 http://archive.ubuntu.com/ubuntu jammy/main amd64 libxml-libxml-perl amd64 2.0207+dfsg+really+2.0134-1 [325 kB]\n",
            "Get:148 http://archive.ubuntu.com/ubuntu jammy/main amd64 libxml-parser-perl amd64 2.46-3build1 [212 kB]\n",
            "Get:149 http://archive.ubuntu.com/ubuntu jammy/main amd64 libxml-sax-expat-perl all 0.51-1 [10.5 kB]\n",
            "Get:150 http://archive.ubuntu.com/ubuntu jammy/universe amd64 pstoedit amd64 3.78-1 [405 kB]\n",
            "Get:151 http://archive.ubuntu.com/ubuntu jammy-updates/universe amd64 qt5-gtk-platformtheme amd64 5.15.3+dfsg-2ubuntu0.2 [130 kB]\n",
            "Get:152 http://archive.ubuntu.com/ubuntu jammy/universe amd64 qttranslations5-l10n all 5.15.3-1 [1,983 kB]\n",
            "Get:153 http://archive.ubuntu.com/ubuntu jammy/universe amd64 texinfo amd64 6.8-4build1 [1,423 kB]\n",
            "Get:154 http://archive.ubuntu.com/ubuntu jammy/main amd64 libauthen-sasl-perl all 2.1600-1.1 [43.1 kB]\n",
            "Get:155 http://archive.ubuntu.com/ubuntu jammy/main amd64 libglu1-mesa amd64 9.0.2-1 [145 kB]\n",
            "Get:156 http://archive.ubuntu.com/ubuntu jammy/universe amd64 octave-common all 6.4.0-2 [5,457 kB]\n",
            "Get:157 http://archive.ubuntu.com/ubuntu jammy/universe amd64 octave amd64 6.4.0-2 [9,330 kB]\n",
            "Get:158 http://archive.ubuntu.com/ubuntu jammy/universe amd64 octave-doc all 6.4.0-2 [7,665 kB]\n",
            "Fetched 98.9 MB in 13s (7,641 kB/s)\n",
            "Extracting templates from packages: 100%\n",
            "Selecting previously unselected package install-info.\n",
            "(Reading database ... 120511 files and directories currently installed.)\n",
            "Preparing to unpack .../install-info_6.8-4build1_amd64.deb ...\n",
            "Unpacking install-info (6.8-4build1) ...\n",
            "Setting up install-info (6.8-4build1) ...\n",
            "Selecting previously unselected package fonts-droid-fallback.\n",
            "(Reading database ... 120524 files and directories currently installed.)\n",
            "Preparing to unpack .../000-fonts-droid-fallback_1%3a6.0.1r16-1.1build1_all.deb ...\n",
            "Unpacking fonts-droid-fallback (1:6.0.1r16-1.1build1) ...\n",
            "Selecting previously unselected package libfftw3-double3:amd64.\n",
            "Preparing to unpack .../001-libfftw3-double3_3.3.8-2ubuntu8_amd64.deb ...\n",
            "Unpacking libfftw3-double3:amd64 (3.3.8-2ubuntu8) ...\n",
            "Selecting previously unselected package liblqr-1-0:amd64.\n",
            "Preparing to unpack .../002-liblqr-1-0_0.4.2-2.1_amd64.deb ...\n",
            "Unpacking liblqr-1-0:amd64 (0.4.2-2.1) ...\n",
            "Selecting previously unselected package imagemagick-6-common.\n",
            "Preparing to unpack .../003-imagemagick-6-common_8%3a6.9.11.60+dfsg-1.3ubuntu0.22.04.3_all.deb ...\n",
            "Unpacking imagemagick-6-common (8:6.9.11.60+dfsg-1.3ubuntu0.22.04.3) ...\n",
            "Selecting previously unselected package libmagickcore-6.q16-6:amd64.\n",
            "Preparing to unpack .../004-libmagickcore-6.q16-6_8%3a6.9.11.60+dfsg-1.3ubuntu0.22.04.3_amd64.deb ...\n",
            "Unpacking libmagickcore-6.q16-6:amd64 (8:6.9.11.60+dfsg-1.3ubuntu0.22.04.3) ...\n",
            "Selecting previously unselected package libmagickwand-6.q16-6:amd64.\n",
            "Preparing to unpack .../005-libmagickwand-6.q16-6_8%3a6.9.11.60+dfsg-1.3ubuntu0.22.04.3_amd64.deb ...\n",
            "Unpacking libmagickwand-6.q16-6:amd64 (8:6.9.11.60+dfsg-1.3ubuntu0.22.04.3) ...\n",
            "Selecting previously unselected package libqt5core5a:amd64.\n",
            "Preparing to unpack .../006-libqt5core5a_5.15.3+dfsg-2ubuntu0.2_amd64.deb ...\n",
            "Unpacking libqt5core5a:amd64 (5.15.3+dfsg-2ubuntu0.2) ...\n",
            "Selecting previously unselected package libevdev2:amd64.\n",
            "Preparing to unpack .../007-libevdev2_1.12.1+dfsg-1_amd64.deb ...\n",
            "Unpacking libevdev2:amd64 (1.12.1+dfsg-1) ...\n",
            "Selecting previously unselected package libmtdev1:amd64.\n",
            "Preparing to unpack .../008-libmtdev1_1.1.6-1build4_amd64.deb ...\n",
            "Unpacking libmtdev1:amd64 (1.1.6-1build4) ...\n",
            "Selecting previously unselected package libgudev-1.0-0:amd64.\n",
            "Preparing to unpack .../009-libgudev-1.0-0_1%3a237-2build1_amd64.deb ...\n",
            "Unpacking libgudev-1.0-0:amd64 (1:237-2build1) ...\n",
            "Selecting previously unselected package libwacom-common.\n",
            "Preparing to unpack .../010-libwacom-common_2.2.0-1_all.deb ...\n",
            "Unpacking libwacom-common (2.2.0-1) ...\n",
            "Selecting previously unselected package libwacom9:amd64.\n",
            "Preparing to unpack .../011-libwacom9_2.2.0-1_amd64.deb ...\n",
            "Unpacking libwacom9:amd64 (2.2.0-1) ...\n",
            "Selecting previously unselected package libinput-bin.\n",
            "Preparing to unpack .../012-libinput-bin_1.20.0-1ubuntu0.3_amd64.deb ...\n",
            "Unpacking libinput-bin (1.20.0-1ubuntu0.3) ...\n",
            "Selecting previously unselected package libinput10:amd64.\n",
            "Preparing to unpack .../013-libinput10_1.20.0-1ubuntu0.3_amd64.deb ...\n",
            "Unpacking libinput10:amd64 (1.20.0-1ubuntu0.3) ...\n",
            "Selecting previously unselected package libmd4c0:amd64.\n",
            "Preparing to unpack .../014-libmd4c0_0.4.8-1_amd64.deb ...\n",
            "Unpacking libmd4c0:amd64 (0.4.8-1) ...\n",
            "Selecting previously unselected package libqt5dbus5:amd64.\n",
            "Preparing to unpack .../015-libqt5dbus5_5.15.3+dfsg-2ubuntu0.2_amd64.deb ...\n",
            "Unpacking libqt5dbus5:amd64 (5.15.3+dfsg-2ubuntu0.2) ...\n",
            "Selecting previously unselected package libqt5network5:amd64.\n",
            "Preparing to unpack .../016-libqt5network5_5.15.3+dfsg-2ubuntu0.2_amd64.deb ...\n",
            "Unpacking libqt5network5:amd64 (5.15.3+dfsg-2ubuntu0.2) ...\n",
            "Selecting previously unselected package libxcb-icccm4:amd64.\n",
            "Preparing to unpack .../017-libxcb-icccm4_0.4.1-1.1build2_amd64.deb ...\n",
            "Unpacking libxcb-icccm4:amd64 (0.4.1-1.1build2) ...\n",
            "Selecting previously unselected package libxcb-util1:amd64.\n",
            "Preparing to unpack .../018-libxcb-util1_0.4.0-1build2_amd64.deb ...\n",
            "Unpacking libxcb-util1:amd64 (0.4.0-1build2) ...\n",
            "Selecting previously unselected package libxcb-image0:amd64.\n",
            "Preparing to unpack .../019-libxcb-image0_0.4.0-2_amd64.deb ...\n",
            "Unpacking libxcb-image0:amd64 (0.4.0-2) ...\n",
            "Selecting previously unselected package libxcb-keysyms1:amd64.\n",
            "Preparing to unpack .../020-libxcb-keysyms1_0.4.0-1build3_amd64.deb ...\n",
            "Unpacking libxcb-keysyms1:amd64 (0.4.0-1build3) ...\n",
            "Selecting previously unselected package libxcb-render-util0:amd64.\n",
            "Preparing to unpack .../021-libxcb-render-util0_0.3.9-1build3_amd64.deb ...\n",
            "Unpacking libxcb-render-util0:amd64 (0.3.9-1build3) ...\n",
            "Selecting previously unselected package libxcb-xinerama0:amd64.\n",
            "Preparing to unpack .../022-libxcb-xinerama0_1.14-3ubuntu3_amd64.deb ...\n",
            "Unpacking libxcb-xinerama0:amd64 (1.14-3ubuntu3) ...\n",
            "Selecting previously unselected package libxcb-xinput0:amd64.\n",
            "Preparing to unpack .../023-libxcb-xinput0_1.14-3ubuntu3_amd64.deb ...\n",
            "Unpacking libxcb-xinput0:amd64 (1.14-3ubuntu3) ...\n",
            "Selecting previously unselected package libxcb-xkb1:amd64.\n",
            "Preparing to unpack .../024-libxcb-xkb1_1.14-3ubuntu3_amd64.deb ...\n",
            "Unpacking libxcb-xkb1:amd64 (1.14-3ubuntu3) ...\n",
            "Selecting previously unselected package libxkbcommon-x11-0:amd64.\n",
            "Preparing to unpack .../025-libxkbcommon-x11-0_1.4.0-1_amd64.deb ...\n",
            "Unpacking libxkbcommon-x11-0:amd64 (1.4.0-1) ...\n",
            "Selecting previously unselected package libqt5gui5:amd64.\n",
            "Preparing to unpack .../026-libqt5gui5_5.15.3+dfsg-2ubuntu0.2_amd64.deb ...\n",
            "Unpacking libqt5gui5:amd64 (5.15.3+dfsg-2ubuntu0.2) ...\n",
            "Selecting previously unselected package libqt5widgets5:amd64.\n",
            "Preparing to unpack .../027-libqt5widgets5_5.15.3+dfsg-2ubuntu0.2_amd64.deb ...\n",
            "Unpacking libqt5widgets5:amd64 (5.15.3+dfsg-2ubuntu0.2) ...\n",
            "Selecting previously unselected package libqt5svg5:amd64.\n",
            "Preparing to unpack .../028-libqt5svg5_5.15.3-1_amd64.deb ...\n",
            "Unpacking libqt5svg5:amd64 (5.15.3-1) ...\n",
            "Selecting previously unselected package poppler-data.\n",
            "Preparing to unpack .../029-poppler-data_0.4.11-1_all.deb ...\n",
            "Unpacking poppler-data (0.4.11-1) ...\n",
            "Selecting previously unselected package tex-common.\n",
            "Preparing to unpack .../030-tex-common_6.17_all.deb ...\n",
            "Unpacking tex-common (6.17) ...\n",
            "Selecting previously unselected package netbase.\n",
            "Preparing to unpack .../031-netbase_6.3_all.deb ...\n",
            "Unpacking netbase (6.3) ...\n",
            "Selecting previously unselected package info.\n",
            "Preparing to unpack .../032-info_6.8-4build1_amd64.deb ...\n",
            "Unpacking info (6.8-4build1) ...\n",
            "Selecting previously unselected package default-jre-headless.\n",
            "Preparing to unpack .../033-default-jre-headless_2%3a1.11-72build2_amd64.deb ...\n",
            "Unpacking default-jre-headless (2:1.11-72build2) ...\n",
            "Selecting previously unselected package fonts-urw-base35.\n",
            "Preparing to unpack .../034-fonts-urw-base35_20200910-1_all.deb ...\n",
            "Unpacking fonts-urw-base35 (20200910-1) ...\n",
            "Selecting previously unselected package libgs9-common.\n",
            "Preparing to unpack .../035-libgs9-common_9.55.0~dfsg1-0ubuntu5.3_all.deb ...\n",
            "Unpacking libgs9-common (9.55.0~dfsg1-0ubuntu5.3) ...\n",
            "Selecting previously unselected package libidn12:amd64.\n",
            "Preparing to unpack .../036-libidn12_1.38-4ubuntu1_amd64.deb ...\n",
            "Unpacking libidn12:amd64 (1.38-4ubuntu1) ...\n",
            "Selecting previously unselected package libijs-0.35:amd64.\n",
            "Preparing to unpack .../037-libijs-0.35_0.35-15build2_amd64.deb ...\n",
            "Unpacking libijs-0.35:amd64 (0.35-15build2) ...\n",
            "Selecting previously unselected package libjbig2dec0:amd64.\n",
            "Preparing to unpack .../038-libjbig2dec0_0.19-3build2_amd64.deb ...\n",
            "Unpacking libjbig2dec0:amd64 (0.19-3build2) ...\n",
            "Selecting previously unselected package libgs9:amd64.\n",
            "Preparing to unpack .../039-libgs9_9.55.0~dfsg1-0ubuntu5.3_amd64.deb ...\n",
            "Unpacking libgs9:amd64 (9.55.0~dfsg1-0ubuntu5.3) ...\n",
            "Selecting previously unselected package ghostscript.\n",
            "Preparing to unpack .../040-ghostscript_9.55.0~dfsg1-0ubuntu5.3_amd64.deb ...\n",
            "Unpacking ghostscript (9.55.0~dfsg1-0ubuntu5.3) ...\n",
            "Selecting previously unselected package epstool.\n",
            "Preparing to unpack .../041-epstool_3.09-3_amd64.deb ...\n",
            "Unpacking epstool (3.09-3) ...\n",
            "Selecting previously unselected package fonts-freefont-otf.\n",
            "Preparing to unpack .../042-fonts-freefont-otf_20120503-10build1_all.deb ...\n",
            "Unpacking fonts-freefont-otf (20120503-10build1) ...\n",
            "Selecting previously unselected package fonts-noto-mono.\n",
            "Preparing to unpack .../043-fonts-noto-mono_20201225-1build1_all.deb ...\n",
            "Unpacking fonts-noto-mono (20201225-1build1) ...\n",
            "Selecting previously unselected package aglfn.\n",
            "Preparing to unpack .../044-aglfn_1.7+git20191031.4036a9c-2_all.deb ...\n",
            "Unpacking aglfn (1.7+git20191031.4036a9c-2) ...\n",
            "Selecting previously unselected package gnuplot-data.\n",
            "Preparing to unpack .../045-gnuplot-data_5.4.2+dfsg2-2_all.deb ...\n",
            "Unpacking gnuplot-data (5.4.2+dfsg2-2) ...\n",
            "Selecting previously unselected package liblua5.4-0:amd64.\n",
            "Preparing to unpack .../046-liblua5.4-0_5.4.4-1_amd64.deb ...\n",
            "Unpacking liblua5.4-0:amd64 (5.4.4-1) ...\n",
            "Selecting previously unselected package libqt5printsupport5:amd64.\n",
            "Preparing to unpack .../047-libqt5printsupport5_5.15.3+dfsg-2ubuntu0.2_amd64.deb ...\n",
            "Unpacking libqt5printsupport5:amd64 (5.15.3+dfsg-2ubuntu0.2) ...\n",
            "Selecting previously unselected package libwxbase3.0-0v5:amd64.\n",
            "Preparing to unpack .../048-libwxbase3.0-0v5_3.0.5.1+dfsg-4_amd64.deb ...\n",
            "Unpacking libwxbase3.0-0v5:amd64 (3.0.5.1+dfsg-4) ...\n",
            "Selecting previously unselected package libnotify4:amd64.\n",
            "Preparing to unpack .../049-libnotify4_0.7.9-3ubuntu5.22.04.1_amd64.deb ...\n",
            "Unpacking libnotify4:amd64 (0.7.9-3ubuntu5.22.04.1) ...\n",
            "Selecting previously unselected package libwxgtk3.0-gtk3-0v5:amd64.\n",
            "Preparing to unpack .../050-libwxgtk3.0-gtk3-0v5_3.0.5.1+dfsg-4_amd64.deb ...\n",
            "Unpacking libwxgtk3.0-gtk3-0v5:amd64 (3.0.5.1+dfsg-4) ...\n",
            "Selecting previously unselected package gnuplot-qt.\n",
            "Preparing to unpack .../051-gnuplot-qt_5.4.2+dfsg2-2_amd64.deb ...\n",
            "Unpacking gnuplot-qt (5.4.2+dfsg2-2) ...\n",
            "Selecting previously unselected package gsfonts.\n",
            "Preparing to unpack .../052-gsfonts_1%3a8.11+urwcyr1.0.7~pre44-4.5_all.deb ...\n",
            "Unpacking gsfonts (1:8.11+urwcyr1.0.7~pre44-4.5) ...\n",
            "Selecting previously unselected package libsuitesparseconfig5:amd64.\n",
            "Preparing to unpack .../053-libsuitesparseconfig5_1%3a5.10.1+dfsg-4build1_amd64.deb ...\n",
            "Unpacking libsuitesparseconfig5:amd64 (1:5.10.1+dfsg-4build1) ...\n",
            "Selecting previously unselected package libamd2:amd64.\n",
            "Preparing to unpack .../054-libamd2_1%3a5.10.1+dfsg-4build1_amd64.deb ...\n",
            "Unpacking libamd2:amd64 (1:5.10.1+dfsg-4build1) ...\n",
            "Selecting previously unselected package libbtf1:amd64.\n",
            "Preparing to unpack .../055-libbtf1_1%3a5.10.1+dfsg-4build1_amd64.deb ...\n",
            "Unpacking libbtf1:amd64 (1:5.10.1+dfsg-4build1) ...\n",
            "Selecting previously unselected package libcamd2:amd64.\n",
            "Preparing to unpack .../056-libcamd2_1%3a5.10.1+dfsg-4build1_amd64.deb ...\n",
            "Unpacking libcamd2:amd64 (1:5.10.1+dfsg-4build1) ...\n",
            "Selecting previously unselected package libccolamd2:amd64.\n",
            "Preparing to unpack .../057-libccolamd2_1%3a5.10.1+dfsg-4build1_amd64.deb ...\n",
            "Unpacking libccolamd2:amd64 (1:5.10.1+dfsg-4build1) ...\n",
            "Selecting previously unselected package libcolamd2:amd64.\n",
            "Preparing to unpack .../058-libcolamd2_1%3a5.10.1+dfsg-4build1_amd64.deb ...\n",
            "Unpacking libcolamd2:amd64 (1:5.10.1+dfsg-4build1) ...\n",
            "Selecting previously unselected package libmetis5:amd64.\n",
            "Preparing to unpack .../059-libmetis5_5.1.0.dfsg-7build2_amd64.deb ...\n",
            "Unpacking libmetis5:amd64 (5.1.0.dfsg-7build2) ...\n",
            "Selecting previously unselected package libcholmod3:amd64.\n",
            "Preparing to unpack .../060-libcholmod3_1%3a5.10.1+dfsg-4build1_amd64.deb ...\n",
            "Unpacking libcholmod3:amd64 (1:5.10.1+dfsg-4build1) ...\n",
            "Selecting previously unselected package libclone-perl.\n",
            "Preparing to unpack .../061-libclone-perl_0.45-1build3_amd64.deb ...\n",
            "Unpacking libclone-perl (0.45-1build3) ...\n",
            "Selecting previously unselected package libcombblas1.16.0:amd64.\n",
            "Preparing to unpack .../062-libcombblas1.16.0_1.6.2-8_amd64.deb ...\n",
            "Unpacking libcombblas1.16.0:amd64 (1.6.2-8) ...\n",
            "Selecting previously unselected package libcxsparse3:amd64.\n",
            "Preparing to unpack .../063-libcxsparse3_1%3a5.10.1+dfsg-4build1_amd64.deb ...\n",
            "Unpacking libcxsparse3:amd64 (1:5.10.1+dfsg-4build1) ...\n",
            "Selecting previously unselected package libdata-dump-perl.\n",
            "Preparing to unpack .../064-libdata-dump-perl_1.25-1_all.deb ...\n",
            "Unpacking libdata-dump-perl (1.25-1) ...\n",
            "Selecting previously unselected package libemf1:amd64.\n",
            "Preparing to unpack .../065-libemf1_1.0.13-3_amd64.deb ...\n",
            "Unpacking libemf1:amd64 (1.0.13-3) ...\n",
            "Selecting previously unselected package libencode-locale-perl.\n",
            "Preparing to unpack .../066-libencode-locale-perl_1.05-1.1_all.deb ...\n",
            "Unpacking libencode-locale-perl (1.05-1.1) ...\n",
            "Selecting previously unselected package libfftw3-long3:amd64.\n",
            "Preparing to unpack .../067-libfftw3-long3_3.3.8-2ubuntu8_amd64.deb ...\n",
            "Unpacking libfftw3-long3:amd64 (3.3.8-2ubuntu8) ...\n",
            "Selecting previously unselected package libfftw3-single3:amd64.\n",
            "Preparing to unpack .../068-libfftw3-single3_3.3.8-2ubuntu8_amd64.deb ...\n",
            "Unpacking libfftw3-single3:amd64 (3.3.8-2ubuntu8) ...\n",
            "Selecting previously unselected package libfftw3-mpi3:amd64.\n",
            "Preparing to unpack .../069-libfftw3-mpi3_3.3.8-2ubuntu8_amd64.deb ...\n",
            "Unpacking libfftw3-mpi3:amd64 (3.3.8-2ubuntu8) ...\n",
            "Selecting previously unselected package libhttp-date-perl.\n",
            "Preparing to unpack .../070-libhttp-date-perl_6.05-1_all.deb ...\n",
            "Unpacking libhttp-date-perl (6.05-1) ...\n",
            "Selecting previously unselected package libfile-listing-perl.\n",
            "Preparing to unpack .../071-libfile-listing-perl_6.14-1_all.deb ...\n",
            "Unpacking libfile-listing-perl (6.14-1) ...\n",
            "Selecting previously unselected package libfltk1.3:amd64.\n",
            "Preparing to unpack .../072-libfltk1.3_1.3.8-4_amd64.deb ...\n",
            "Unpacking libfltk1.3:amd64 (1.3.8-4) ...\n",
            "Selecting previously unselected package libfltk-gl1.3:amd64.\n",
            "Preparing to unpack .../073-libfltk-gl1.3_1.3.8-4_amd64.deb ...\n",
            "Unpacking libfltk-gl1.3:amd64 (1.3.8-4) ...\n",
            "Selecting previously unselected package libfont-afm-perl.\n",
            "Preparing to unpack .../074-libfont-afm-perl_1.20-3_all.deb ...\n",
            "Unpacking libfont-afm-perl (1.20-3) ...\n",
            "Selecting previously unselected package libglpk40:amd64.\n",
            "Preparing to unpack .../075-libglpk40_5.0-1_amd64.deb ...\n",
            "Unpacking libglpk40:amd64 (5.0-1) ...\n",
            "Selecting previously unselected package libwmflite-0.2-7:amd64.\n",
            "Preparing to unpack .../076-libwmflite-0.2-7_0.2.12-5ubuntu1_amd64.deb ...\n",
            "Unpacking libwmflite-0.2-7:amd64 (0.2.12-5ubuntu1) ...\n",
            "Selecting previously unselected package libgraphicsmagick-q16-3.\n",
            "Preparing to unpack .../077-libgraphicsmagick-q16-3_1.4+really1.3.38-1ubuntu0.1_amd64.deb ...\n",
            "Unpacking libgraphicsmagick-q16-3 (1.4+really1.3.38-1ubuntu0.1) ...\n",
            "Selecting previously unselected package libgraphicsmagick++-q16-12.\n",
            "Preparing to unpack .../078-libgraphicsmagick++-q16-12_1.4+really1.3.38-1ubuntu0.1_amd64.deb ...\n",
            "Unpacking libgraphicsmagick++-q16-12 (1.4+really1.3.38-1ubuntu0.1) ...\n",
            "Selecting previously unselected package libhdf5-openmpi-103-1:amd64.\n",
            "Preparing to unpack .../079-libhdf5-openmpi-103-1_1.10.7+repack-4ubuntu2_amd64.deb ...\n",
            "Unpacking libhdf5-openmpi-103-1:amd64 (1.10.7+repack-4ubuntu2) ...\n",
            "Selecting previously unselected package libhtml-tagset-perl.\n",
            "Preparing to unpack .../080-libhtml-tagset-perl_3.20-4_all.deb ...\n",
            "Unpacking libhtml-tagset-perl (3.20-4) ...\n",
            "Selecting previously unselected package liburi-perl.\n",
            "Preparing to unpack .../081-liburi-perl_5.10-1_all.deb ...\n",
            "Unpacking liburi-perl (5.10-1) ...\n",
            "Selecting previously unselected package libhtml-parser-perl:amd64.\n",
            "Preparing to unpack .../082-libhtml-parser-perl_3.76-1build2_amd64.deb ...\n",
            "Unpacking libhtml-parser-perl:amd64 (3.76-1build2) ...\n",
            "Selecting previously unselected package libio-html-perl.\n",
            "Preparing to unpack .../083-libio-html-perl_1.004-2_all.deb ...\n",
            "Unpacking libio-html-perl (1.004-2) ...\n",
            "Selecting previously unselected package liblwp-mediatypes-perl.\n",
            "Preparing to unpack .../084-liblwp-mediatypes-perl_6.04-1_all.deb ...\n",
            "Unpacking liblwp-mediatypes-perl (6.04-1) ...\n",
            "Selecting previously unselected package libhttp-message-perl.\n",
            "Preparing to unpack .../085-libhttp-message-perl_6.36-1_all.deb ...\n",
            "Unpacking libhttp-message-perl (6.36-1) ...\n",
            "Selecting previously unselected package libhtml-form-perl.\n",
            "Preparing to unpack .../086-libhtml-form-perl_6.07-1_all.deb ...\n",
            "Unpacking libhtml-form-perl (6.07-1) ...\n",
            "Selecting previously unselected package libhtml-tree-perl.\n",
            "Preparing to unpack .../087-libhtml-tree-perl_5.07-2_all.deb ...\n",
            "Unpacking libhtml-tree-perl (5.07-2) ...\n",
            "Selecting previously unselected package libhtml-format-perl.\n",
            "Preparing to unpack .../088-libhtml-format-perl_2.12-1.1_all.deb ...\n",
            "Unpacking libhtml-format-perl (2.12-1.1) ...\n",
            "Selecting previously unselected package libhttp-cookies-perl.\n",
            "Preparing to unpack .../089-libhttp-cookies-perl_6.10-1_all.deb ...\n",
            "Unpacking libhttp-cookies-perl (6.10-1) ...\n",
            "Selecting previously unselected package libhttp-daemon-perl.\n",
            "Preparing to unpack .../090-libhttp-daemon-perl_6.13-1ubuntu0.1_all.deb ...\n",
            "Unpacking libhttp-daemon-perl (6.13-1ubuntu0.1) ...\n",
            "Selecting previously unselected package libhttp-negotiate-perl.\n",
            "Preparing to unpack .../091-libhttp-negotiate-perl_6.01-1_all.deb ...\n",
            "Unpacking libhttp-negotiate-perl (6.01-1) ...\n",
            "Selecting previously unselected package libptscotch-6.1:amd64.\n",
            "Preparing to unpack .../092-libptscotch-6.1_6.1.3-1_amd64.deb ...\n",
            "Unpacking libptscotch-6.1:amd64 (6.1.3-1) ...\n",
            "Selecting previously unselected package libsuperlu-dist7:amd64.\n",
            "Preparing to unpack .../093-libsuperlu-dist7_7.2.0+dfsg1-2_amd64.deb ...\n",
            "Unpacking libsuperlu-dist7:amd64 (7.2.0+dfsg1-2) ...\n",
            "Selecting previously unselected package libhypre-2.22.1:amd64.\n",
            "Preparing to unpack .../094-libhypre-2.22.1_2.22.1-7_amd64.deb ...\n",
            "Unpacking libhypre-2.22.1:amd64 (2.22.1-7) ...\n",
            "Selecting previously unselected package perl-openssl-defaults:amd64.\n",
            "Preparing to unpack .../095-perl-openssl-defaults_5build2_amd64.deb ...\n",
            "Unpacking perl-openssl-defaults:amd64 (5build2) ...\n",
            "Selecting previously unselected package libnet-ssleay-perl:amd64.\n",
            "Preparing to unpack .../096-libnet-ssleay-perl_1.92-1build2_amd64.deb ...\n",
            "Unpacking libnet-ssleay-perl:amd64 (1.92-1build2) ...\n",
            "Selecting previously unselected package libio-socket-ssl-perl.\n",
            "Preparing to unpack .../097-libio-socket-ssl-perl_2.074-2_all.deb ...\n",
            "Unpacking libio-socket-ssl-perl (2.074-2) ...\n",
            "Selecting previously unselected package libklu1:amd64.\n",
            "Preparing to unpack .../098-libklu1_1%3a5.10.1+dfsg-4build1_amd64.deb ...\n",
            "Unpacking libklu1:amd64 (1:5.10.1+dfsg-4build1) ...\n",
            "Selecting previously unselected package libnet-http-perl.\n",
            "Preparing to unpack .../099-libnet-http-perl_6.22-1_all.deb ...\n",
            "Unpacking libnet-http-perl (6.22-1) ...\n",
            "Selecting previously unselected package libtry-tiny-perl.\n",
            "Preparing to unpack .../100-libtry-tiny-perl_0.31-1_all.deb ...\n",
            "Unpacking libtry-tiny-perl (0.31-1) ...\n",
            "Selecting previously unselected package libwww-robotrules-perl.\n",
            "Preparing to unpack .../101-libwww-robotrules-perl_6.02-1_all.deb ...\n",
            "Unpacking libwww-robotrules-perl (6.02-1) ...\n",
            "Selecting previously unselected package libwww-perl.\n",
            "Preparing to unpack .../102-libwww-perl_6.61-1_all.deb ...\n",
            "Unpacking libwww-perl (6.61-1) ...\n",
            "Selecting previously unselected package liblwp-protocol-https-perl.\n",
            "Preparing to unpack .../103-liblwp-protocol-https-perl_6.10-1_all.deb ...\n",
            "Unpacking liblwp-protocol-https-perl (6.10-1) ...\n",
            "Selecting previously unselected package libmagick++-6.q16-8:amd64.\n",
            "Preparing to unpack .../104-libmagick++-6.q16-8_8%3a6.9.11.60+dfsg-1.3ubuntu0.22.04.3_amd64.deb ...\n",
            "Unpacking libmagick++-6.q16-8:amd64 (8:6.9.11.60+dfsg-1.3ubuntu0.22.04.3) ...\n",
            "Selecting previously unselected package libnet-smtp-ssl-perl.\n",
            "Preparing to unpack .../105-libnet-smtp-ssl-perl_1.04-1_all.deb ...\n",
            "Unpacking libnet-smtp-ssl-perl (1.04-1) ...\n",
            "Selecting previously unselected package libmailtools-perl.\n",
            "Preparing to unpack .../106-libmailtools-perl_2.21-1_all.deb ...\n",
            "Unpacking libmailtools-perl (2.21-1) ...\n",
            "Selecting previously unselected package libscalapack-openmpi2.1:amd64.\n",
            "Preparing to unpack .../107-libscalapack-openmpi2.1_2.1.0-4_amd64.deb ...\n",
            "Unpacking libscalapack-openmpi2.1:amd64 (2.1.0-4) ...\n",
            "Selecting previously unselected package libmumps-5.4:amd64.\n",
            "Preparing to unpack .../108-libmumps-5.4_5.4.1-2_amd64.deb ...\n",
            "Unpacking libmumps-5.4:amd64 (5.4.1-2) ...\n",
            "Selecting previously unselected package libscotch-6.1:amd64.\n",
            "Preparing to unpack .../109-libscotch-6.1_6.1.3-1_amd64.deb ...\n",
            "Unpacking libscotch-6.1:amd64 (6.1.3-1) ...\n",
            "Selecting previously unselected package libtrilinos-kokkos-13.2:amd64.\n",
            "Preparing to unpack .../110-libtrilinos-kokkos-13.2_13.2.0-1ubuntu1_amd64.deb ...\n",
            "Unpacking libtrilinos-kokkos-13.2:amd64 (13.2.0-1ubuntu1) ...\n",
            "Selecting previously unselected package libtrilinos-teuchos-13.2:amd64.\n",
            "Preparing to unpack .../111-libtrilinos-teuchos-13.2_13.2.0-1ubuntu1_amd64.deb ...\n",
            "Unpacking libtrilinos-teuchos-13.2:amd64 (13.2.0-1ubuntu1) ...\n",
            "Selecting previously unselected package libtrilinos-epetra-13.2:amd64.\n",
            "Preparing to unpack .../112-libtrilinos-epetra-13.2_13.2.0-1ubuntu1_amd64.deb ...\n",
            "Unpacking libtrilinos-epetra-13.2:amd64 (13.2.0-1ubuntu1) ...\n",
            "Selecting previously unselected package libtrilinos-triutils-13.2:amd64.\n",
            "Preparing to unpack .../113-libtrilinos-triutils-13.2_13.2.0-1ubuntu1_amd64.deb ...\n",
            "Unpacking libtrilinos-triutils-13.2:amd64 (13.2.0-1ubuntu1) ...\n",
            "Selecting previously unselected package libtrilinos-epetraext-13.2:amd64.\n",
            "Preparing to unpack .../114-libtrilinos-epetraext-13.2_13.2.0-1ubuntu1_amd64.deb ...\n",
            "Unpacking libtrilinos-epetraext-13.2:amd64 (13.2.0-1ubuntu1) ...\n",
            "Selecting previously unselected package libtrilinos-trilinosss-13.2:amd64.\n",
            "Preparing to unpack .../115-libtrilinos-trilinosss-13.2_13.2.0-1ubuntu1_amd64.deb ...\n",
            "Unpacking libtrilinos-trilinosss-13.2:amd64 (13.2.0-1ubuntu1) ...\n",
            "Selecting previously unselected package libtrilinos-amesos-13.2:amd64.\n",
            "Preparing to unpack .../116-libtrilinos-amesos-13.2_13.2.0-1ubuntu1_amd64.deb ...\n",
            "Unpacking libtrilinos-amesos-13.2:amd64 (13.2.0-1ubuntu1) ...\n",
            "Selecting previously unselected package libtrilinos-aztecoo-13.2:amd64.\n",
            "Preparing to unpack .../117-libtrilinos-aztecoo-13.2_13.2.0-1ubuntu1_amd64.deb ...\n",
            "Unpacking libtrilinos-aztecoo-13.2:amd64 (13.2.0-1ubuntu1) ...\n",
            "Selecting previously unselected package libtrilinos-galeri-13.2:amd64.\n",
            "Preparing to unpack .../118-libtrilinos-galeri-13.2_13.2.0-1ubuntu1_amd64.deb ...\n",
            "Unpacking libtrilinos-galeri-13.2:amd64 (13.2.0-1ubuntu1) ...\n",
            "Selecting previously unselected package libtrilinos-ifpack-13.2:amd64.\n",
            "Preparing to unpack .../119-libtrilinos-ifpack-13.2_13.2.0-1ubuntu1_amd64.deb ...\n",
            "Unpacking libtrilinos-ifpack-13.2:amd64 (13.2.0-1ubuntu1) ...\n",
            "Selecting previously unselected package libtrilinos-zoltan-13.2:amd64.\n",
            "Preparing to unpack .../120-libtrilinos-zoltan-13.2_13.2.0-1ubuntu1_amd64.deb ...\n",
            "Unpacking libtrilinos-zoltan-13.2:amd64 (13.2.0-1ubuntu1) ...\n",
            "Selecting previously unselected package libtrilinos-ml-13.2:amd64.\n",
            "Preparing to unpack .../121-libtrilinos-ml-13.2_13.2.0-1ubuntu1_amd64.deb ...\n",
            "Unpacking libtrilinos-ml-13.2:amd64 (13.2.0-1ubuntu1) ...\n",
            "Selecting previously unselected package libumfpack5:amd64.\n",
            "Preparing to unpack .../122-libumfpack5_1%3a5.10.1+dfsg-4build1_amd64.deb ...\n",
            "Unpacking libumfpack5:amd64 (1:5.10.1+dfsg-4build1) ...\n",
            "Selecting previously unselected package libpetsc-real3.15:amd64.\n",
            "Preparing to unpack .../123-libpetsc-real3.15_3.15.5+dfsg1-1build2_amd64.deb ...\n",
            "Unpacking libpetsc-real3.15:amd64 (3.15.5+dfsg1-1build2) ...\n",
            "Selecting previously unselected package libplot2c2:amd64.\n",
            "Preparing to unpack .../124-libplot2c2_2.6-11_amd64.deb ...\n",
            "Unpacking libplot2c2:amd64 (2.6-11) ...\n",
            "Selecting previously unselected package libportaudio2:amd64.\n",
            "Preparing to unpack .../125-libportaudio2_19.6.0-1.1_amd64.deb ...\n",
            "Unpacking libportaudio2:amd64 (19.6.0-1.1) ...\n",
            "Selecting previously unselected package libzip4:amd64.\n",
            "Preparing to unpack .../126-libzip4_1.7.3-1ubuntu2_amd64.deb ...\n",
            "Unpacking libzip4:amd64 (1.7.3-1ubuntu2) ...\n",
            "Selecting previously unselected package libpstoedit0c2a:amd64.\n",
            "Preparing to unpack .../127-libpstoedit0c2a_3.78-1_amd64.deb ...\n",
            "Unpacking libpstoedit0c2a:amd64 (3.78-1) ...\n",
            "Selecting previously unselected package libqrupdate1:amd64.\n",
            "Preparing to unpack .../128-libqrupdate1_1.1.2-4_amd64.deb ...\n",
            "Unpacking libqrupdate1:amd64 (1.1.2-4) ...\n",
            "Selecting previously unselected package libqscintilla2-qt5-l10n.\n",
            "Preparing to unpack .../129-libqscintilla2-qt5-l10n_2.11.6+dfsg-4_all.deb ...\n",
            "Unpacking libqscintilla2-qt5-l10n (2.11.6+dfsg-4) ...\n",
            "Selecting previously unselected package libqscintilla2-qt5-15.\n",
            "Preparing to unpack .../130-libqscintilla2-qt5-15_2.11.6+dfsg-4_amd64.deb ...\n",
            "Unpacking libqscintilla2-qt5-15 (2.11.6+dfsg-4) ...\n",
            "Selecting previously unselected package libqt5sql5:amd64.\n",
            "Preparing to unpack .../131-libqt5sql5_5.15.3+dfsg-2ubuntu0.2_amd64.deb ...\n",
            "Unpacking libqt5sql5:amd64 (5.15.3+dfsg-2ubuntu0.2) ...\n",
            "Selecting previously unselected package libqt5help5:amd64.\n",
            "Preparing to unpack .../132-libqt5help5_5.15.3-1_amd64.deb ...\n",
            "Unpacking libqt5help5:amd64 (5.15.3-1) ...\n",
            "Selecting previously unselected package libqt5sql5-sqlite:amd64.\n",
            "Preparing to unpack .../133-libqt5sql5-sqlite_5.15.3+dfsg-2ubuntu0.2_amd64.deb ...\n",
            "Unpacking libqt5sql5-sqlite:amd64 (5.15.3+dfsg-2ubuntu0.2) ...\n",
            "Selecting previously unselected package libqt5xml5:amd64.\n",
            "Preparing to unpack .../134-libqt5xml5_5.15.3+dfsg-2ubuntu0.2_amd64.deb ...\n",
            "Unpacking libqt5xml5:amd64 (5.15.3+dfsg-2ubuntu0.2) ...\n",
            "Selecting previously unselected package libsundials-ida4:amd64.\n",
            "Preparing to unpack .../135-libsundials-ida4_5.8.0+dfsg-1build1_amd64.deb ...\n",
            "Unpacking libsundials-ida4:amd64 (5.8.0+dfsg-1build1) ...\n",
            "Selecting previously unselected package libsundials-nvecparallel-petsc4:amd64.\n",
            "Preparing to unpack .../136-libsundials-nvecparallel-petsc4_5.8.0+dfsg-1build1_amd64.deb ...\n",
            "Unpacking libsundials-nvecparallel-petsc4:amd64 (5.8.0+dfsg-1build1) ...\n",
            "Selecting previously unselected package libsundials-nvecserial4:amd64.\n",
            "Preparing to unpack .../137-libsundials-nvecserial4_5.8.0+dfsg-1build1_amd64.deb ...\n",
            "Unpacking libsundials-nvecserial4:amd64 (5.8.0+dfsg-1build1) ...\n",
            "Selecting previously unselected package libsundials-sunmatrix2:amd64.\n",
            "Preparing to unpack .../138-libsundials-sunmatrix2_5.8.0+dfsg-1build1_amd64.deb ...\n",
            "Unpacking libsundials-sunmatrix2:amd64 (5.8.0+dfsg-1build1) ...\n",
            "Selecting previously unselected package libsundials-sunlinsol2:amd64.\n",
            "Preparing to unpack .../139-libsundials-sunlinsol2_5.8.0+dfsg-1build1_amd64.deb ...\n",
            "Unpacking libsundials-sunlinsol2:amd64 (5.8.0+dfsg-1build1) ...\n",
            "Selecting previously unselected package libtext-unidecode-perl.\n",
            "Preparing to unpack .../140-libtext-unidecode-perl_1.30-1_all.deb ...\n",
            "Unpacking libtext-unidecode-perl (1.30-1) ...\n",
            "Selecting previously unselected package libwacom-bin.\n",
            "Preparing to unpack .../141-libwacom-bin_2.2.0-1_amd64.deb ...\n",
            "Unpacking libwacom-bin (2.2.0-1) ...\n",
            "Selecting previously unselected package libxml-namespacesupport-perl.\n",
            "Preparing to unpack .../142-libxml-namespacesupport-perl_1.12-1.1_all.deb ...\n",
            "Unpacking libxml-namespacesupport-perl (1.12-1.1) ...\n",
            "Selecting previously unselected package libxml-sax-base-perl.\n",
            "Preparing to unpack .../143-libxml-sax-base-perl_1.09-1.1_all.deb ...\n",
            "Unpacking libxml-sax-base-perl (1.09-1.1) ...\n",
            "Selecting previously unselected package libxml-sax-perl.\n",
            "Preparing to unpack .../144-libxml-sax-perl_1.02+dfsg-3_all.deb ...\n",
            "Unpacking libxml-sax-perl (1.02+dfsg-3) ...\n",
            "Selecting previously unselected package libxml-libxml-perl.\n",
            "Preparing to unpack .../145-libxml-libxml-perl_2.0207+dfsg+really+2.0134-1_amd64.deb ...\n",
            "Unpacking libxml-libxml-perl (2.0207+dfsg+really+2.0134-1) ...\n",
            "Selecting previously unselected package libxml-parser-perl:amd64.\n",
            "Preparing to unpack .../146-libxml-parser-perl_2.46-3build1_amd64.deb ...\n",
            "Unpacking libxml-parser-perl:amd64 (2.46-3build1) ...\n",
            "Selecting previously unselected package libxml-sax-expat-perl.\n",
            "Preparing to unpack .../147-libxml-sax-expat-perl_0.51-1_all.deb ...\n",
            "Unpacking libxml-sax-expat-perl (0.51-1) ...\n",
            "Selecting previously unselected package pstoedit.\n",
            "Preparing to unpack .../148-pstoedit_3.78-1_amd64.deb ...\n",
            "Unpacking pstoedit (3.78-1) ...\n",
            "Selecting previously unselected package qt5-gtk-platformtheme:amd64.\n",
            "Preparing to unpack .../149-qt5-gtk-platformtheme_5.15.3+dfsg-2ubuntu0.2_amd64.deb ...\n",
            "Unpacking qt5-gtk-platformtheme:amd64 (5.15.3+dfsg-2ubuntu0.2) ...\n",
            "Selecting previously unselected package qttranslations5-l10n.\n",
            "Preparing to unpack .../150-qttranslations5-l10n_5.15.3-1_all.deb ...\n",
            "Unpacking qttranslations5-l10n (5.15.3-1) ...\n",
            "Selecting previously unselected package texinfo.\n",
            "Preparing to unpack .../151-texinfo_6.8-4build1_amd64.deb ...\n",
            "Unpacking texinfo (6.8-4build1) ...\n",
            "Selecting previously unselected package libauthen-sasl-perl.\n",
            "Preparing to unpack .../152-libauthen-sasl-perl_2.1600-1.1_all.deb ...\n",
            "Unpacking libauthen-sasl-perl (2.1600-1.1) ...\n",
            "Selecting previously unselected package libglu1-mesa:amd64.\n",
            "Preparing to unpack .../153-libglu1-mesa_9.0.2-1_amd64.deb ...\n",
            "Unpacking libglu1-mesa:amd64 (9.0.2-1) ...\n",
            "Selecting previously unselected package octave-common.\n",
            "Preparing to unpack .../154-octave-common_6.4.0-2_all.deb ...\n",
            "Unpacking octave-common (6.4.0-2) ...\n",
            "Selecting previously unselected package octave.\n",
            "Preparing to unpack .../155-octave_6.4.0-2_amd64.deb ...\n",
            "Unpacking octave (6.4.0-2) ...\n",
            "Selecting previously unselected package octave-doc.\n",
            "Preparing to unpack .../156-octave-doc_6.4.0-2_all.deb ...\n",
            "Unpacking octave-doc (6.4.0-2) ...\n",
            "Setting up libplot2c2:amd64 (2.6-11) ...\n",
            "Setting up libportaudio2:amd64 (19.6.0-1.1) ...\n",
            "Setting up libhttp-date-perl (6.05-1) ...\n",
            "Setting up imagemagick-6-common (8:6.9.11.60+dfsg-1.3ubuntu0.22.04.3) ...\n",
            "Setting up libfftw3-single3:amd64 (3.3.8-2ubuntu8) ...\n",
            "Setting up libcombblas1.16.0:amd64 (1.6.2-8) ...\n",
            "Setting up libfile-listing-perl (6.14-1) ...\n",
            "Setting up fonts-noto-mono (20201225-1build1) ...\n",
            "Setting up default-jre-headless (2:1.11-72build2) ...\n",
            "Setting up libwmflite-0.2-7:amd64 (0.2.12-5ubuntu1) ...\n",
            "Setting up libxcb-xinput0:amd64 (1.14-3ubuntu3) ...\n",
            "Setting up libfont-afm-perl (1.20-3) ...\n",
            "Setting up libscalapack-openmpi2.1:amd64 (2.1.0-4) ...\n",
            "Setting up libsundials-nvecserial4:amd64 (5.8.0+dfsg-1build1) ...\n",
            "Setting up libclone-perl (0.45-1build3) ...\n",
            "Setting up libhtml-tagset-perl (3.20-4) ...\n",
            "Setting up libqscintilla2-qt5-l10n (2.11.6+dfsg-4) ...\n",
            "Setting up libzip4:amd64 (1.7.3-1ubuntu2) ...\n",
            "Setting up libijs-0.35:amd64 (0.35-15build2) ...\n",
            "Setting up libauthen-sasl-perl (2.1600-1.1) ...\n",
            "Setting up libfltk1.3:amd64 (1.3.8-4) ...\n",
            "Setting up liblwp-mediatypes-perl (6.04-1) ...\n",
            "Setting up libfltk-gl1.3:amd64 (1.3.8-4) ...\n",
            "Setting up fonts-freefont-otf (20120503-10build1) ...\n",
            "Setting up libxcb-keysyms1:amd64 (0.4.0-1build3) ...\n",
            "Setting up libsundials-ida4:amd64 (5.8.0+dfsg-1build1) ...\n",
            "Setting up libtry-tiny-perl (0.31-1) ...\n",
            "Setting up libptscotch-6.1:amd64 (6.1.3-1) ...\n",
            "Setting up libmumps-5.4:amd64 (5.4.1-2) ...\n",
            "Setting up perl-openssl-defaults:amd64 (5build2) ...\n",
            "Setting up libxml-namespacesupport-perl (1.12-1.1) ...\n",
            "Setting up libfftw3-long3:amd64 (3.3.8-2ubuntu8) ...\n",
            "Setting up libxcb-render-util0:amd64 (0.3.9-1build3) ...\n",
            "Setting up libencode-locale-perl (1.05-1.1) ...\n",
            "Setting up libtrilinos-kokkos-13.2:amd64 (13.2.0-1ubuntu1) ...\n",
            "Setting up libmetis5:amd64 (5.1.0.dfsg-7build2) ...\n",
            "Setting up libxcb-icccm4:amd64 (0.4.1-1.1build2) ...\n",
            "Setting up fonts-urw-base35 (20200910-1) ...\n",
            "Setting up libqrupdate1:amd64 (1.1.2-4) ...\n",
            "Setting up octave-common (6.4.0-2) ...\n",
            "Setting up libbtf1:amd64 (1:5.10.1+dfsg-4build1) ...\n",
            "Setting up libxcb-util1:amd64 (0.4.0-1build2) ...\n",
            "Setting up poppler-data (0.4.11-1) ...\n",
            "Setting up libxcb-xkb1:amd64 (1.14-3ubuntu3) ...\n",
            "Setting up libxcb-image0:amd64 (0.4.0-2) ...\n",
            "Setting up libtrilinos-trilinosss-13.2:amd64 (13.2.0-1ubuntu1) ...\n",
            "Setting up tex-common (6.17) ...\n",
            "update-language: texlive-base not installed and configured, doing nothing!\n",
            "Setting up libxml-sax-base-perl (1.09-1.1) ...\n",
            "Setting up libxcb-xinerama0:amd64 (1.14-3ubuntu3) ...\n",
            "Setting up libtrilinos-teuchos-13.2:amd64 (13.2.0-1ubuntu1) ...\n",
            "Setting up qttranslations5-l10n (5.15.3-1) ...\n",
            "Setting up libdata-dump-perl (1.25-1) ...\n",
            "Setting up libjbig2dec0:amd64 (0.19-3build2) ...\n",
            "Setting up libnotify4:amd64 (0.7.9-3ubuntu5.22.04.1) ...\n",
            "Setting up aglfn (1.7+git20191031.4036a9c-2) ...\n",
            "Setting up gsfonts (1:8.11+urwcyr1.0.7~pre44-4.5) ...\n",
            "Setting up libtrilinos-epetra-13.2:amd64 (13.2.0-1ubuntu1) ...\n",
            "Setting up libxkbcommon-x11-0:amd64 (1.4.0-1) ...\n",
            "Setting up libidn12:amd64 (1.38-4ubuntu1) ...\n",
            "Setting up libio-html-perl (1.004-2) ...\n",
            "Setting up libgraphicsmagick-q16-3 (1.4+really1.3.38-1ubuntu0.1) ...\n",
            "Setting up libqt5core5a:amd64 (5.15.3+dfsg-2ubuntu0.2) ...\n",
            "Setting up libfftw3-double3:amd64 (3.3.8-2ubuntu8) ...\n",
            "Setting up libmtdev1:amd64 (1.1.6-1build4) ...\n",
            "Setting up liblqr-1-0:amd64 (0.4.2-2.1) ...\n",
            "Setting up libtrilinos-aztecoo-13.2:amd64 (13.2.0-1ubuntu1) ...\n",
            "Setting up libqt5dbus5:amd64 (5.15.3+dfsg-2ubuntu0.2) ...\n",
            "Setting up libsuperlu-dist7:amd64 (7.2.0+dfsg1-2) ...\n",
            "Setting up libmd4c0:amd64 (0.4.8-1) ...\n",
            "Setting up liblua5.4-0:amd64 (5.4.4-1) ...\n",
            "Setting up netbase (6.3) ...\n",
            "Setting up libwxbase3.0-0v5:amd64 (3.0.5.1+dfsg-4) ...\n",
            "Setting up libgraphicsmagick++-q16-12 (1.4+really1.3.38-1ubuntu0.1) ...\n",
            "Setting up libcxsparse3:amd64 (1:5.10.1+dfsg-4build1) ...\n",
            "Setting up libglu1-mesa:amd64 (9.0.2-1) ...\n",
            "Setting up fonts-droid-fallback (1:6.0.1r16-1.1build1) ...\n",
            "Setting up libscotch-6.1:amd64 (6.1.3-1) ...\n",
            "Setting up libtext-unidecode-perl (1.30-1) ...\n",
            "Setting up libhypre-2.22.1:amd64 (2.22.1-7) ...\n",
            "Setting up libemf1:amd64 (1.0.13-3) ...\n",
            "Setting up libevdev2:amd64 (1.12.1+dfsg-1) ...\n",
            "Setting up libsuitesparseconfig5:amd64 (1:5.10.1+dfsg-4build1) ...\n",
            "Setting up liburi-perl (5.10-1) ...\n",
            "Setting up info (6.8-4build1) ...\n",
            "update-alternatives: using /usr/bin/info to provide /usr/bin/infobrowser (infobrowser) in auto mode\n",
            "Setting up libgudev-1.0-0:amd64 (1:237-2build1) ...\n",
            "Setting up libtrilinos-triutils-13.2:amd64 (13.2.0-1ubuntu1) ...\n",
            "Setting up libsundials-sunmatrix2:amd64 (5.8.0+dfsg-1build1) ...\n",
            "Setting up libhdf5-openmpi-103-1:amd64 (1.10.7+repack-4ubuntu2) ...\n",
            "Setting up libhttp-message-perl (6.36-1) ...\n",
            "Setting up libwacom-common (2.2.0-1) ...\n",
            "Setting up libnet-ssleay-perl:amd64 (1.92-1build2) ...\n",
            "Setting up libgs9-common (9.55.0~dfsg1-0ubuntu5.3) ...\n",
            "Setting up gnuplot-data (5.4.2+dfsg2-2) ...\n",
            "Setting up libamd2:amd64 (1:5.10.1+dfsg-4build1) ...\n",
            "Setting up libhttp-negotiate-perl (6.01-1) ...\n",
            "Setting up libcolamd2:amd64 (1:5.10.1+dfsg-4build1) ...\n",
            "Setting up libgs9:amd64 (9.55.0~dfsg1-0ubuntu5.3) ...\n",
            "Setting up libhttp-cookies-perl (6.10-1) ...\n",
            "Setting up libwacom9:amd64 (2.2.0-1) ...\n",
            "Setting up libnet-http-perl (6.22-1) ...\n",
            "Setting up libfftw3-mpi3:amd64 (3.3.8-2ubuntu8) ...\n",
            "Setting up ghostscript (9.55.0~dfsg1-0ubuntu5.3) ...\n",
            "Setting up libtrilinos-zoltan-13.2:amd64 (13.2.0-1ubuntu1) ...\n",
            "Setting up octave-doc (6.4.0-2) ...\n",
            "Setting up libxml-sax-perl (1.02+dfsg-3) ...\n",
            "update-perl-sax-parsers: Registering Perl SAX parser XML::SAX::PurePerl with priority 10...\n",
            "update-perl-sax-parsers: Updating overall Perl SAX parser modules info file...\n",
            "\n",
            "Creating config file /etc/perl/XML/SAX/ParserDetails.ini with new version\n",
            "Setting up libwxgtk3.0-gtk3-0v5:amd64 (3.0.5.1+dfsg-4) ...\n",
            "Setting up libqt5network5:amd64 (5.15.3+dfsg-2ubuntu0.2) ...\n",
            "Setting up libinput-bin (1.20.0-1ubuntu0.3) ...\n",
            "Setting up libqt5sql5:amd64 (5.15.3+dfsg-2ubuntu0.2) ...\n",
            "Setting up libcamd2:amd64 (1:5.10.1+dfsg-4build1) ...\n",
            "Setting up libmagickcore-6.q16-6:amd64 (8:6.9.11.60+dfsg-1.3ubuntu0.22.04.3) ...\n",
            "Setting up libqt5xml5:amd64 (5.15.3+dfsg-2ubuntu0.2) ...\n",
            "Setting up epstool (3.09-3) ...\n",
            "Setting up libglpk40:amd64 (5.0-1) ...\n",
            "Setting up libtrilinos-epetraext-13.2:amd64 (13.2.0-1ubuntu1) ...\n",
            "Setting up libxml-libxml-perl (2.0207+dfsg+really+2.0134-1) ...\n",
            "update-perl-sax-parsers: Registering Perl SAX parser XML::LibXML::SAX::Parser with priority 50...\n",
            "update-perl-sax-parsers: Registering Perl SAX parser XML::LibXML::SAX with priority 50...\n",
            "update-perl-sax-parsers: Updating overall Perl SAX parser modules info file...\n",
            "Replacing config file /etc/perl/XML/SAX/ParserDetails.ini with new version\n",
            "Setting up libwacom-bin (2.2.0-1) ...\n",
            "Setting up libwww-robotrules-perl (6.02-1) ...\n",
            "Setting up libtrilinos-galeri-13.2:amd64 (13.2.0-1ubuntu1) ...\n",
            "Setting up libhttp-daemon-perl (6.13-1ubuntu0.1) ...\n",
            "Setting up libklu1:amd64 (1:5.10.1+dfsg-4build1) ...\n",
            "Setting up libccolamd2:amd64 (1:5.10.1+dfsg-4build1) ...\n",
            "Setting up libhtml-parser-perl:amd64 (3.76-1build2) ...\n",
            "Setting up libmagickwand-6.q16-6:amd64 (8:6.9.11.60+dfsg-1.3ubuntu0.22.04.3) ...\n",
            "Setting up libtrilinos-amesos-13.2:amd64 (13.2.0-1ubuntu1) ...\n",
            "Setting up libmagick++-6.q16-8:amd64 (8:6.9.11.60+dfsg-1.3ubuntu0.22.04.3) ...\n",
            "Setting up libcholmod3:amd64 (1:5.10.1+dfsg-4build1) ...\n",
            "Setting up libio-socket-ssl-perl (2.074-2) ...\n",
            "Setting up libhtml-form-perl (6.07-1) ...\n",
            "Setting up libinput10:amd64 (1.20.0-1ubuntu0.3) ...\n",
            "Setting up libqt5sql5-sqlite:amd64 (5.15.3+dfsg-2ubuntu0.2) ...\n",
            "Setting up libpstoedit0c2a:amd64 (3.78-1) ...\n",
            "Setting up libhtml-tree-perl (5.07-2) ...\n",
            "Setting up libqt5gui5:amd64 (5.15.3+dfsg-2ubuntu0.2) ...\n",
            "Setting up libqt5widgets5:amd64 (5.15.3+dfsg-2ubuntu0.2) ...\n",
            "Setting up libhtml-format-perl (2.12-1.1) ...\n",
            "Setting up libqt5help5:amd64 (5.15.3-1) ...\n",
            "Setting up qt5-gtk-platformtheme:amd64 (5.15.3+dfsg-2ubuntu0.2) ...\n",
            "Setting up libqt5printsupport5:amd64 (5.15.3+dfsg-2ubuntu0.2) ...\n",
            "Setting up libumfpack5:amd64 (1:5.10.1+dfsg-4build1) ...\n",
            "Setting up libnet-smtp-ssl-perl (1.04-1) ...\n",
            "Setting up libmailtools-perl (2.21-1) ...\n",
            "Setting up libtrilinos-ifpack-13.2:amd64 (13.2.0-1ubuntu1) ...\n",
            "Setting up texinfo (6.8-4build1) ...\n",
            "Setting up pstoedit (3.78-1) ...\n",
            "Setting up libtrilinos-ml-13.2:amd64 (13.2.0-1ubuntu1) ...\n",
            "Setting up libqt5svg5:amd64 (5.15.3-1) ...\n",
            "Setting up libpetsc-real3.15:amd64 (3.15.5+dfsg1-1build2) ...\n",
            "update-alternatives: using /usr/lib/x86_64-linux-gnu/libpetsc_real.so.3.15.5 to provide /usr/lib/x86_64-linux-gnu/libpetsc.so.3.15 (libpetsc.so.3.15) in auto mode\n",
            "Setting up libqscintilla2-qt5-15 (2.11.6+dfsg-4) ...\n",
            "Setting up gnuplot-qt (5.4.2+dfsg2-2) ...\n",
            "update-alternatives: using /usr/bin/gnuplot-qt to provide /usr/bin/gnuplot (gnuplot) in auto mode\n",
            "Setting up libsundials-nvecparallel-petsc4:amd64 (5.8.0+dfsg-1build1) ...\n",
            "Setting up libsundials-sunlinsol2:amd64 (5.8.0+dfsg-1build1) ...\n",
            "Setting up octave (6.4.0-2) ...\n",
            "Setting up liblwp-protocol-https-perl (6.10-1) ...\n",
            "Setting up libwww-perl (6.61-1) ...\n",
            "Setting up libxml-parser-perl:amd64 (2.46-3build1) ...\n",
            "Setting up libxml-sax-expat-perl (0.51-1) ...\n",
            "update-perl-sax-parsers: Registering Perl SAX parser XML::SAX::Expat with priority 50...\n",
            "update-perl-sax-parsers: Updating overall Perl SAX parser modules info file...\n",
            "Replacing config file /etc/perl/XML/SAX/ParserDetails.ini with new version\n",
            "Processing triggers for install-info (6.8-4build1) ...\n",
            "Processing triggers for fontconfig (2.13.1-4.2ubuntu5) ...\n",
            "Processing triggers for hicolor-icon-theme (0.17-2) ...\n",
            "Processing triggers for libc-bin (2.35-0ubuntu3.1) ...\n",
            "Processing triggers for man-db (2.10.2-1) ...\n"
          ]
        }
      ]
    },
    {
      "cell_type": "code",
      "source": [
        "!octave -W !wget https://raw.githubusercontent.com/USERNAME/REPO/master/file.txt -O file.txt\n"
      ],
      "metadata": {
        "colab": {
          "base_uri": "https://localhost:8080/"
        },
        "id": "VvpgE_gEMWdB",
        "outputId": "ff5515b4-fe3c-47ff-9eb8-546e3d808020"
      },
      "execution_count": 142,
      "outputs": [
        {
          "output_type": "stream",
          "name": "stdout",
          "text": [
            "error: source: error sourcing file '/content/add.m'\n"
          ]
        }
      ]
    },
    {
      "cell_type": "code",
      "source": [],
      "metadata": {
        "id": "3iNKknPmNFPt"
      },
      "execution_count": null,
      "outputs": []
    }
  ]
}