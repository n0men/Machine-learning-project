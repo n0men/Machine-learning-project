{
  "nbformat": 4,
  "nbformat_minor": 0,
  "metadata": {
    "colab": {
      "provenance": [],
      "authorship_tag": "ABX9TyNaBY6Hu2zivZRcnPSwRq3U",
      "include_colab_link": true
    },
    "kernelspec": {
      "name": "python3",
      "display_name": "Python 3"
    },
    "language_info": {
      "name": "python"
    }
  },
  "cells": [
    {
      "cell_type": "markdown",
      "metadata": {
        "id": "view-in-github",
        "colab_type": "text"
      },
      "source": [
        "<a href=\"https://colab.research.google.com/github/simonc999/Machine-learning-project/blob/main/Untitled0.ipynb\" target=\"_parent\"><img src=\"https://colab.research.google.com/assets/colab-badge.svg\" alt=\"Open In Colab\"/></a>"
      ]
    },
    {
      "cell_type": "markdown",
      "source": [
        "**Introduzione**\n",
        "\n",
        "L'obiettivo del machine learning è realizzare sistemi di tipo automatico che si comportino come se avessero le competenze umane, affrontando problemi multivariati, reagendo a stimoli complessi, applicando regole di tipo euristico e non meccanico, interagendo con l'ambiente e apprendendo dalle osservazioni sperimentali. Una macchina allenata in questo modo sarà in grado di classificare automaticamente nuovi casi mai visti prima, sulla base della sua conoscenza, come farebbe un essere umano. Esistono numerose famiglie e tipologie di apprendimento, in particolare, in questo corso, ci siamo concentrati sulla branca dell’Empirical Learning. Con apprendimento empirico si fa riferimento ad un metodo di apprendimento che parte da un insieme di osservazioni sperimentali **data set** e costruisce a partire da essi una regola di classificazione; il risultato di un apprendimento è un classificatore, un insieme di regole decisionali che determinano se un elemento appartiene ad una classe piuttosto che ad un’altra.\n",
        "\n",
        "Nel caso che approfondirò in questa relazione la classificazione presa in considerazione si basa sulla presenza o l’assenza del diabete.\n",
        "\n",
        "\n",
        "\n",
        "\n",
        "\n",
        "\n",
        "\n",
        "\n",
        "\n"
      ],
      "metadata": {
        "id": "4zT3x0rxWfDB"
      }
    },
    {
      "cell_type": "code",
      "execution_count": null,
      "metadata": {
        "id": "N86-dux3WM28"
      },
      "outputs": [],
      "source": []
    }
  ]
}